{
 "cells": [
  {
   "cell_type": "code",
   "execution_count": 0,
   "metadata": {
    "colab": {
     "base_uri": "https://localhost:8080/",
     "height": 334
    },
    "colab_type": "code",
    "id": "DtuxKjGh4cis",
    "outputId": "d598c586-0947-451a-a668-d17b85b578e7"
   },
   "outputs": [
    {
     "name": "stdout",
     "output_type": "stream",
     "text": [
      "['GVKEY', 'LPERMNO', 'datadate', 'fyearq', 'fqtr', 'conm', 'actq', 'atq', 'cshoq', 'epsf12', 'lctq', 'lltq', 'ltq', 'niq', 'revtq', 'txtq', 'ugiq', 'xintq', 'cshpry', 'oancfy', 'exchg', 'sic']\n"
     ]
    },
    {
     "data": {
      "text/html": [
       "<div>\n",
       "<style scoped>\n",
       "    .dataframe tbody tr th:only-of-type {\n",
       "        vertical-align: middle;\n",
       "    }\n",
       "\n",
       "    .dataframe tbody tr th {\n",
       "        vertical-align: top;\n",
       "    }\n",
       "\n",
       "    .dataframe thead th {\n",
       "        text-align: right;\n",
       "    }\n",
       "</style>\n",
       "<table border=\"1\" class=\"dataframe\">\n",
       "  <thead>\n",
       "    <tr style=\"text-align: right;\">\n",
       "      <th></th>\n",
       "      <th>PERMNO</th>\n",
       "      <th>roe</th>\n",
       "      <th>roa</th>\n",
       "      <th>niq</th>\n",
       "      <th>equity</th>\n",
       "      <th>roic</th>\n",
       "      <th>roag</th>\n",
       "      <th>roeg</th>\n",
       "      <th>share_total</th>\n",
       "      <th>share_common</th>\n",
       "      <th>eps</th>\n",
       "      <th>cf</th>\n",
       "      <th>sic</th>\n",
       "    </tr>\n",
       "  </thead>\n",
       "  <tbody>\n",
       "    <tr>\n",
       "      <th>count</th>\n",
       "      <td>197982.000000</td>\n",
       "      <td>160094.000000</td>\n",
       "      <td>160087.000000</td>\n",
       "      <td>160217.000000</td>\n",
       "      <td>160145.000000</td>\n",
       "      <td>109970.000000</td>\n",
       "      <td>156032.000000</td>\n",
       "      <td>156039.000000</td>\n",
       "      <td>160271.000000</td>\n",
       "      <td>196876.000000</td>\n",
       "      <td>137645.00000</td>\n",
       "      <td>152375.000000</td>\n",
       "      <td>197982.000000</td>\n",
       "    </tr>\n",
       "    <tr>\n",
       "      <th>mean</th>\n",
       "      <td>66284.309134</td>\n",
       "      <td>0.023875</td>\n",
       "      <td>0.121957</td>\n",
       "      <td>122.810403</td>\n",
       "      <td>3914.064864</td>\n",
       "      <td>0.204824</td>\n",
       "      <td>1.411451</td>\n",
       "      <td>1.418737</td>\n",
       "      <td>236.887376</td>\n",
       "      <td>197.498297</td>\n",
       "      <td>4.03097</td>\n",
       "      <td>578.986904</td>\n",
       "      <td>5053.633406</td>\n",
       "    </tr>\n",
       "    <tr>\n",
       "      <th>std</th>\n",
       "      <td>25437.961550</td>\n",
       "      <td>1.368672</td>\n",
       "      <td>15.367877</td>\n",
       "      <td>690.671806</td>\n",
       "      <td>13286.283882</td>\n",
       "      <td>17.889052</td>\n",
       "      <td>157.832812</td>\n",
       "      <td>154.345092</td>\n",
       "      <td>731.927535</td>\n",
       "      <td>666.166176</td>\n",
       "      <td>118.40910</td>\n",
       "      <td>3765.389844</td>\n",
       "      <td>1948.988524</td>\n",
       "    </tr>\n",
       "    <tr>\n",
       "      <th>min</th>\n",
       "      <td>10051.000000</td>\n",
       "      <td>-99.697674</td>\n",
       "      <td>-2024.941176</td>\n",
       "      <td>-61659.000000</td>\n",
       "      <td>-90520.000000</td>\n",
       "      <td>-710.833333</td>\n",
       "      <td>-14348.448158</td>\n",
       "      <td>-14473.812143</td>\n",
       "      <td>0.001000</td>\n",
       "      <td>0.001000</td>\n",
       "      <td>-2023.13000</td>\n",
       "      <td>-110807.000000</td>\n",
       "      <td>100.000000</td>\n",
       "    </tr>\n",
       "    <tr>\n",
       "      <th>25%</th>\n",
       "      <td>51263.000000</td>\n",
       "      <td>0.002903</td>\n",
       "      <td>0.010303</td>\n",
       "      <td>3.159000</td>\n",
       "      <td>250.845000</td>\n",
       "      <td>0.021467</td>\n",
       "      <td>0.450964</td>\n",
       "      <td>0.460320</td>\n",
       "      <td>27.079500</td>\n",
       "      <td>20.090000</td>\n",
       "      <td>0.43000</td>\n",
       "      <td>10.973500</td>\n",
       "      <td>3533.000000</td>\n",
       "    </tr>\n",
       "    <tr>\n",
       "      <th>50%</th>\n",
       "      <td>77418.000000</td>\n",
       "      <td>0.010314</td>\n",
       "      <td>0.028260</td>\n",
       "      <td>17.135000</td>\n",
       "      <td>733.313000</td>\n",
       "      <td>0.047591</td>\n",
       "      <td>0.943119</td>\n",
       "      <td>0.946092</td>\n",
       "      <td>59.863000</td>\n",
       "      <td>47.425000</td>\n",
       "      <td>1.33000</td>\n",
       "      <td>64.946000</td>\n",
       "      <td>5531.000000</td>\n",
       "    </tr>\n",
       "    <tr>\n",
       "      <th>75%</th>\n",
       "      <td>85348.000000</td>\n",
       "      <td>0.020598</td>\n",
       "      <td>0.048376</td>\n",
       "      <td>70.300000</td>\n",
       "      <td>2292.300000</td>\n",
       "      <td>0.088535</td>\n",
       "      <td>1.247875</td>\n",
       "      <td>1.249253</td>\n",
       "      <td>158.082500</td>\n",
       "      <td>123.740250</td>\n",
       "      <td>2.45000</td>\n",
       "      <td>272.975000</td>\n",
       "      <td>6726.000000</td>\n",
       "    </tr>\n",
       "    <tr>\n",
       "      <th>max</th>\n",
       "      <td>93427.000000</td>\n",
       "      <td>486.000000</td>\n",
       "      <td>5395.000000</td>\n",
       "      <td>26615.000000</td>\n",
       "      <td>258627.000000</td>\n",
       "      <td>5395.000000</td>\n",
       "      <td>31983.236515</td>\n",
       "      <td>39375.976744</td>\n",
       "      <td>39765.020000</td>\n",
       "      <td>29206.441000</td>\n",
       "      <td>8967.00000</td>\n",
       "      <td>199470.000000</td>\n",
       "      <td>9997.000000</td>\n",
       "    </tr>\n",
       "  </tbody>\n",
       "</table>\n",
       "</div>"
      ],
      "text/plain": [
       "              PERMNO            roe  ...             cf            sic\n",
       "count  197982.000000  160094.000000  ...  152375.000000  197982.000000\n",
       "mean    66284.309134       0.023875  ...     578.986904    5053.633406\n",
       "std     25437.961550       1.368672  ...    3765.389844    1948.988524\n",
       "min     10051.000000     -99.697674  ... -110807.000000     100.000000\n",
       "25%     51263.000000       0.002903  ...      10.973500    3533.000000\n",
       "50%     77418.000000       0.010314  ...      64.946000    5531.000000\n",
       "75%     85348.000000       0.020598  ...     272.975000    6726.000000\n",
       "max     93427.000000     486.000000  ...  199470.000000    9997.000000\n",
       "\n",
       "[8 rows x 13 columns]"
      ]
     },
     "execution_count": 4,
     "metadata": {
      "tags": []
     },
     "output_type": "execute_result"
    }
   ],
   "source": [
    "import pandas as pd\n",
    "import numpy as np\n",
    "import scipy.stats as stats\n",
    "import matplotlib.pyplot as plt\n",
    "\n",
    "\n",
    "# read factors file\n",
    "df = pd.read_csv('factor.csv')\n",
    "print(list(df.columns))\n",
    "df['temPERMNO'] = df['LPERMNO']\n",
    "# fill missing value\n",
    "df = df.groupby('temPERMNO').fillna(method = 'pad')\n",
    "\n",
    "# profitability\n",
    "df['equity'] = df.atq - df.ltq\n",
    "df['roa'] = df.niq / df.equity\n",
    "df['roe'] = df.niq / df.atq\n",
    "df['roic'] = (df.niq+df.txtq+df.xintq)/(df.lltq+(df.actq-df.lctq))\n",
    "# profitability's growth    Problem Here!\n",
    "df['roa_pre'] = df.groupby('LPERMNO').roa.shift(1)\n",
    "df['roag'] = df.roa/df.roa_pre\n",
    "df['roe_pre'] = df.groupby('LPERMNO').roe.shift(1)\n",
    "df['roeg'] = df.roe/df.roe_pre\n",
    "# replace infinite value\n",
    "df = df.replace(-np.inf,np.nan).replace(np.inf,np.nan)\n",
    "\n",
    "df['PERMNO'] = df.LPERMNO\n",
    "df['date'] = df.datadate.apply(lambda x:str(x)[:4]+'-'+str(x)[4:6])\n",
    "\n",
    "# value\n",
    "df['share_total'] = df.cshpry\n",
    "df['share_common'] = df.cshoq\n",
    "df['cf'] = df.oancfy\n",
    "df['eps'] = df.epsf12   # eps, exclude extraordinary items\n",
    "\n",
    "df1 = df.loc[:,['date','PERMNO','roe','roa','niq','equity','roic','roag','roeg','share_total','share_common','eps','cf','sic']]\n",
    "df1.describe()"
   ]
  },
  {
   "cell_type": "code",
   "execution_count": 0,
   "metadata": {
    "colab": {
     "base_uri": "https://localhost:8080/",
     "height": 34
    },
    "colab_type": "code",
    "id": "prJY6WyU4ciw",
    "outputId": "3e3a0ecc-142e-4e98-de93-32c4180661cc"
   },
   "outputs": [
    {
     "data": {
      "text/plain": [
       "27124"
      ]
     },
     "execution_count": 30,
     "metadata": {
      "tags": []
     },
     "output_type": "execute_result"
    }
   ],
   "source": [
    "len(df1.loc[(df1.equity < 0) | (df1.niq < 0)])"
   ]
  },
  {
   "cell_type": "code",
   "execution_count": 0,
   "metadata": {
    "colab": {
     "base_uri": "https://localhost:8080/",
     "height": 204
    },
    "colab_type": "code",
    "id": "G4mmXfDw4ciz",
    "outputId": "b19a242c-b613-4499-c1e6-4a8969b9e050",
    "scrolled": true
   },
   "outputs": [
    {
     "data": {
      "text/html": [
       "<div>\n",
       "<style scoped>\n",
       "    .dataframe tbody tr th:only-of-type {\n",
       "        vertical-align: middle;\n",
       "    }\n",
       "\n",
       "    .dataframe tbody tr th {\n",
       "        vertical-align: top;\n",
       "    }\n",
       "\n",
       "    .dataframe thead th {\n",
       "        text-align: right;\n",
       "    }\n",
       "</style>\n",
       "<table border=\"1\" class=\"dataframe\">\n",
       "  <thead>\n",
       "    <tr style=\"text-align: right;\">\n",
       "      <th></th>\n",
       "      <th>PERMNO</th>\n",
       "      <th>RET</th>\n",
       "      <th>date</th>\n",
       "      <th>PRC</th>\n",
       "    </tr>\n",
       "  </thead>\n",
       "  <tbody>\n",
       "    <tr>\n",
       "      <th>0</th>\n",
       "      <td>10051</td>\n",
       "      <td>-0.062500</td>\n",
       "      <td>1998-12</td>\n",
       "      <td>22.5000</td>\n",
       "    </tr>\n",
       "    <tr>\n",
       "      <th>1</th>\n",
       "      <td>10051</td>\n",
       "      <td>0.111111</td>\n",
       "      <td>1999-01</td>\n",
       "      <td>25.0000</td>\n",
       "    </tr>\n",
       "    <tr>\n",
       "      <th>2</th>\n",
       "      <td>10051</td>\n",
       "      <td>-0.392500</td>\n",
       "      <td>1999-02</td>\n",
       "      <td>15.1875</td>\n",
       "    </tr>\n",
       "    <tr>\n",
       "      <th>3</th>\n",
       "      <td>10051</td>\n",
       "      <td>-0.111111</td>\n",
       "      <td>1999-03</td>\n",
       "      <td>13.5000</td>\n",
       "    </tr>\n",
       "    <tr>\n",
       "      <th>4</th>\n",
       "      <td>10051</td>\n",
       "      <td>0.083333</td>\n",
       "      <td>1999-04</td>\n",
       "      <td>14.6250</td>\n",
       "    </tr>\n",
       "  </tbody>\n",
       "</table>\n",
       "</div>"
      ],
      "text/plain": [
       "   PERMNO       RET     date      PRC\n",
       "0   10051 -0.062500  1998-12  22.5000\n",
       "1   10051  0.111111  1999-01  25.0000\n",
       "2   10051 -0.392500  1999-02  15.1875\n",
       "3   10051 -0.111111  1999-03  13.5000\n",
       "4   10051  0.083333  1999-04  14.6250"
      ]
     },
     "execution_count": 31,
     "metadata": {
      "tags": []
     },
     "output_type": "execute_result"
    }
   ],
   "source": [
    "ret = pd.read_csv('return.csv')\n",
    "# ret1 = ret\n",
    "ret1 = ret.loc[ret.PRC > 0.0,['PERMNO','RET','date','PRC']]\n",
    "ret1.date = ret1.date.apply(lambda x:str(x)[-4:]+'-'+str(x)[:2])\n",
    "ret1.RET = ret1.RET.replace('C',0).apply(lambda x:float(x))\n",
    "ret1.head()"
   ]
  },
  {
   "cell_type": "code",
   "execution_count": 0,
   "metadata": {
    "colab": {
     "base_uri": "https://localhost:8080/",
     "height": 317
    },
    "colab_type": "code",
    "id": "uy93vomV4ci2",
    "outputId": "8b4d4b7e-e9f7-432c-e5d6-15e083c1dd4d"
   },
   "outputs": [
    {
     "data": {
      "text/html": [
       "<div>\n",
       "<style scoped>\n",
       "    .dataframe tbody tr th:only-of-type {\n",
       "        vertical-align: middle;\n",
       "    }\n",
       "\n",
       "    .dataframe tbody tr th {\n",
       "        vertical-align: top;\n",
       "    }\n",
       "\n",
       "    .dataframe thead th {\n",
       "        text-align: right;\n",
       "    }\n",
       "</style>\n",
       "<table border=\"1\" class=\"dataframe\">\n",
       "  <thead>\n",
       "    <tr style=\"text-align: right;\">\n",
       "      <th></th>\n",
       "      <th>PERMNO</th>\n",
       "      <th>roe</th>\n",
       "      <th>roa</th>\n",
       "      <th>niq</th>\n",
       "      <th>equity</th>\n",
       "      <th>roic</th>\n",
       "      <th>roag</th>\n",
       "      <th>roeg</th>\n",
       "      <th>share_total</th>\n",
       "      <th>share_common</th>\n",
       "      <th>eps</th>\n",
       "      <th>cf</th>\n",
       "      <th>sic</th>\n",
       "      <th>RET</th>\n",
       "      <th>PRC</th>\n",
       "      <th>RETt+1</th>\n",
       "      <th>cmkt</th>\n",
       "      <th>tmkt</th>\n",
       "      <th>bm</th>\n",
       "      <th>ep</th>\n",
       "      <th>cfp</th>\n",
       "    </tr>\n",
       "  </thead>\n",
       "  <tbody>\n",
       "    <tr>\n",
       "      <th>count</th>\n",
       "      <td>650559.000000</td>\n",
       "      <td>431143.000000</td>\n",
       "      <td>431134.000000</td>\n",
       "      <td>431440.000000</td>\n",
       "      <td>431261.000000</td>\n",
       "      <td>294805.000000</td>\n",
       "      <td>421391.000000</td>\n",
       "      <td>421400.000000</td>\n",
       "      <td>431614.000000</td>\n",
       "      <td>536151.000000</td>\n",
       "      <td>377259.000000</td>\n",
       "      <td>410997.000000</td>\n",
       "      <td>539127.000000</td>\n",
       "      <td>650559.000000</td>\n",
       "      <td>650559.000000</td>\n",
       "      <td>644480.000000</td>\n",
       "      <td>5.361510e+05</td>\n",
       "      <td>4.316140e+05</td>\n",
       "      <td>430269.000000</td>\n",
       "      <td>377259.000000</td>\n",
       "      <td>410681.000000</td>\n",
       "    </tr>\n",
       "    <tr>\n",
       "      <th>mean</th>\n",
       "      <td>66302.368738</td>\n",
       "      <td>0.022272</td>\n",
       "      <td>0.131078</td>\n",
       "      <td>132.585670</td>\n",
       "      <td>4212.385340</td>\n",
       "      <td>0.220682</td>\n",
       "      <td>1.321981</td>\n",
       "      <td>1.179354</td>\n",
       "      <td>249.966552</td>\n",
       "      <td>206.243560</td>\n",
       "      <td>4.322536</td>\n",
       "      <td>614.667439</td>\n",
       "      <td>5067.191378</td>\n",
       "      <td>0.009586</td>\n",
       "      <td>67.010387</td>\n",
       "      <td>0.009609</td>\n",
       "      <td>5.761477e+04</td>\n",
       "      <td>7.142006e+04</td>\n",
       "      <td>0.622050</td>\n",
       "      <td>-0.021083</td>\n",
       "      <td>0.072147</td>\n",
       "    </tr>\n",
       "    <tr>\n",
       "      <th>std</th>\n",
       "      <td>25464.993754</td>\n",
       "      <td>0.644680</td>\n",
       "      <td>15.875890</td>\n",
       "      <td>719.826852</td>\n",
       "      <td>13804.640483</td>\n",
       "      <td>18.687047</td>\n",
       "      <td>139.753403</td>\n",
       "      <td>122.044338</td>\n",
       "      <td>753.284841</td>\n",
       "      <td>682.508072</td>\n",
       "      <td>123.781727</td>\n",
       "      <td>3932.335189</td>\n",
       "      <td>1937.931848</td>\n",
       "      <td>0.119375</td>\n",
       "      <td>2138.101758</td>\n",
       "      <td>0.119659</td>\n",
       "      <td>4.547377e+06</td>\n",
       "      <td>5.061779e+06</td>\n",
       "      <td>7.532682</td>\n",
       "      <td>3.978658</td>\n",
       "      <td>1.334883</td>\n",
       "    </tr>\n",
       "    <tr>\n",
       "      <th>min</th>\n",
       "      <td>10051.000000</td>\n",
       "      <td>-99.697674</td>\n",
       "      <td>-2024.941176</td>\n",
       "      <td>-61659.000000</td>\n",
       "      <td>-90520.000000</td>\n",
       "      <td>-624.666667</td>\n",
       "      <td>-14348.448158</td>\n",
       "      <td>-14473.812143</td>\n",
       "      <td>0.001000</td>\n",
       "      <td>0.001000</td>\n",
       "      <td>-2023.130000</td>\n",
       "      <td>-110807.000000</td>\n",
       "      <td>100.000000</td>\n",
       "      <td>-0.981295</td>\n",
       "      <td>0.031250</td>\n",
       "      <td>-0.981295</td>\n",
       "      <td>1.925000e-02</td>\n",
       "      <td>6.187500e-03</td>\n",
       "      <td>-2388.311688</td>\n",
       "      <td>-921.988571</td>\n",
       "      <td>-68.032560</td>\n",
       "    </tr>\n",
       "    <tr>\n",
       "      <th>25%</th>\n",
       "      <td>51263.000000</td>\n",
       "      <td>0.003006</td>\n",
       "      <td>0.010589</td>\n",
       "      <td>4.069000</td>\n",
       "      <td>298.178000</td>\n",
       "      <td>0.022108</td>\n",
       "      <td>0.450746</td>\n",
       "      <td>0.459257</td>\n",
       "      <td>30.341750</td>\n",
       "      <td>21.690000</td>\n",
       "      <td>0.470000</td>\n",
       "      <td>14.270000</td>\n",
       "      <td>3533.000000</td>\n",
       "      <td>-0.040157</td>\n",
       "      <td>12.170000</td>\n",
       "      <td>-0.040458</td>\n",
       "      <td>3.266799e+02</td>\n",
       "      <td>5.850541e+02</td>\n",
       "      <td>0.315484</td>\n",
       "      <td>0.023824</td>\n",
       "      <td>0.016215</td>\n",
       "    </tr>\n",
       "    <tr>\n",
       "      <th>50%</th>\n",
       "      <td>77366.000000</td>\n",
       "      <td>0.010351</td>\n",
       "      <td>0.028366</td>\n",
       "      <td>20.086000</td>\n",
       "      <td>827.600000</td>\n",
       "      <td>0.047823</td>\n",
       "      <td>0.941685</td>\n",
       "      <td>0.944844</td>\n",
       "      <td>65.139000</td>\n",
       "      <td>50.277000</td>\n",
       "      <td>1.380000</td>\n",
       "      <td>74.900000</td>\n",
       "      <td>5621.000000</td>\n",
       "      <td>0.008070</td>\n",
       "      <td>20.625000</td>\n",
       "      <td>0.008345</td>\n",
       "      <td>1.095668e+03</td>\n",
       "      <td>1.726832e+03</td>\n",
       "      <td>0.524377</td>\n",
       "      <td>0.050000</td>\n",
       "      <td>0.049580</td>\n",
       "    </tr>\n",
       "    <tr>\n",
       "      <th>75%</th>\n",
       "      <td>85440.000000</td>\n",
       "      <td>0.020398</td>\n",
       "      <td>0.048464</td>\n",
       "      <td>79.167000</td>\n",
       "      <td>2559.400000</td>\n",
       "      <td>0.087879</td>\n",
       "      <td>1.249056</td>\n",
       "      <td>1.249839</td>\n",
       "      <td>171.200000</td>\n",
       "      <td>132.024000</td>\n",
       "      <td>2.510000</td>\n",
       "      <td>301.900000</td>\n",
       "      <td>6726.000000</td>\n",
       "      <td>0.056277</td>\n",
       "      <td>36.750000</td>\n",
       "      <td>0.056478</td>\n",
       "      <td>3.972307e+03</td>\n",
       "      <td>5.685744e+03</td>\n",
       "      <td>0.804560</td>\n",
       "      <td>0.073184</td>\n",
       "      <td>0.101061</td>\n",
       "    </tr>\n",
       "    <tr>\n",
       "      <th>max</th>\n",
       "      <td>93427.000000</td>\n",
       "      <td>64.832168</td>\n",
       "      <td>5395.000000</td>\n",
       "      <td>26615.000000</td>\n",
       "      <td>258627.000000</td>\n",
       "      <td>5395.000000</td>\n",
       "      <td>26519.144325</td>\n",
       "      <td>39375.976744</td>\n",
       "      <td>39765.020000</td>\n",
       "      <td>29206.441000</td>\n",
       "      <td>8967.000000</td>\n",
       "      <td>199470.000000</td>\n",
       "      <td>9997.000000</td>\n",
       "      <td>5.551724</td>\n",
       "      <td>226000.000000</td>\n",
       "      <td>5.551724</td>\n",
       "      <td>5.569463e+08</td>\n",
       "      <td>5.571316e+08</td>\n",
       "      <td>1144.711959</td>\n",
       "      <td>91.786751</td>\n",
       "      <td>425.767091</td>\n",
       "    </tr>\n",
       "  </tbody>\n",
       "</table>\n",
       "</div>"
      ],
      "text/plain": [
       "              PERMNO            roe  ...             ep            cfp\n",
       "count  650559.000000  431143.000000  ...  377259.000000  410681.000000\n",
       "mean    66302.368738       0.022272  ...      -0.021083       0.072147\n",
       "std     25464.993754       0.644680  ...       3.978658       1.334883\n",
       "min     10051.000000     -99.697674  ...    -921.988571     -68.032560\n",
       "25%     51263.000000       0.003006  ...       0.023824       0.016215\n",
       "50%     77366.000000       0.010351  ...       0.050000       0.049580\n",
       "75%     85440.000000       0.020398  ...       0.073184       0.101061\n",
       "max     93427.000000      64.832168  ...      91.786751     425.767091\n",
       "\n",
       "[8 rows x 21 columns]"
      ]
     },
     "execution_count": 32,
     "metadata": {
      "tags": []
     },
     "output_type": "execute_result"
    }
   ],
   "source": [
    "# merge data, replace nan with previous data\n",
    "# index by ret1, since we delete the stock whose prices are lower than 5\n",
    "data1 = pd.merge(df1,ret1,on=['PERMNO','date'],how='right')\n",
    "data1 = data1.sort_values(by = ['PERMNO','date'])\n",
    "data1['temPERMNO'] = data1.PERMNO\n",
    "data1 = data1.groupby('temPERMNO').fillna(method = 'pad')\n",
    "# next term's return\n",
    "data1['RETt+1'] = data1.groupby('PERMNO').RET.shift(-1)\n",
    "\n",
    "# value factors\n",
    "data1['cmkt'] = data1.PRC * data1.share_common\n",
    "data1['tmkt'] = data1.PRC * data1.share_total\n",
    "data1['bm'] = data1.equity / data1.cmkt\n",
    "data1['ep'] = data1.eps / data1.PRC\n",
    "data1['cfp'] = (data1.cf / data1.share_total) / data1.PRC\n",
    "data1 = data1.replace(-np.inf,np.nan).replace(np.inf,np.nan)\n",
    "\n",
    "data1.describe()"
   ]
  },
  {
   "cell_type": "code",
   "execution_count": 0,
   "metadata": {
    "colab": {},
    "colab_type": "code",
    "id": "CRX-_vsO4ci6"
   },
   "outputs": [],
   "source": [
    "# if income or equity < 0, replace factor with median value\n",
    "data1.loc[(data1.equity < 0) | (data1.niq < 0),['roa','roe']] = np.nan\n",
    "data1.loc[data1.bm < 0, 'bm'] = np.nan\n",
    "data1.loc[data1.ep < 0, 'ep'] = np.nan\n",
    "data1.loc[data1.cfp < 0, 'cfp'] = np.nan\n",
    "\n",
    "# factors = ['roa','roe','roag','roeg','roic','bm','ep','cfp']\n",
    "\n",
    "# data2 = pd.DataFrame()\n",
    "# for i in sorted(list(data1.date.unique())):\n",
    "#     tem = data1.loc[data1.date == i]\n",
    "#     for f in factors:\n",
    "#         tem[f] = tem[f].fillna(tem[f].median())\n",
    "#     data2 = pd.concat([data2,tem])\n",
    "\n",
    "# data2.describe()"
   ]
  },
  {
   "cell_type": "code",
   "execution_count": 0,
   "metadata": {
    "colab": {
     "base_uri": "https://localhost:8080/",
     "height": 317
    },
    "colab_type": "code",
    "id": "WABl13c94ci8",
    "outputId": "6e8d5bb5-671f-4041-f8ac-02dffef7f1cc",
    "scrolled": true
   },
   "outputs": [
    {
     "data": {
      "text/html": [
       "<div>\n",
       "<style scoped>\n",
       "    .dataframe tbody tr th:only-of-type {\n",
       "        vertical-align: middle;\n",
       "    }\n",
       "\n",
       "    .dataframe tbody tr th {\n",
       "        vertical-align: top;\n",
       "    }\n",
       "\n",
       "    .dataframe thead th {\n",
       "        text-align: right;\n",
       "    }\n",
       "</style>\n",
       "<table border=\"1\" class=\"dataframe\">\n",
       "  <thead>\n",
       "    <tr style=\"text-align: right;\">\n",
       "      <th></th>\n",
       "      <th>PERMNO</th>\n",
       "      <th>roe</th>\n",
       "      <th>roa</th>\n",
       "      <th>niq</th>\n",
       "      <th>equity</th>\n",
       "      <th>roic</th>\n",
       "      <th>roag</th>\n",
       "      <th>roeg</th>\n",
       "      <th>share_total</th>\n",
       "      <th>share_common</th>\n",
       "      <th>eps</th>\n",
       "      <th>cf</th>\n",
       "      <th>sic</th>\n",
       "      <th>RET</th>\n",
       "      <th>PRC</th>\n",
       "      <th>RETt+1</th>\n",
       "      <th>cmkt</th>\n",
       "      <th>tmkt</th>\n",
       "      <th>bm</th>\n",
       "      <th>ep</th>\n",
       "      <th>cfp</th>\n",
       "    </tr>\n",
       "  </thead>\n",
       "  <tbody>\n",
       "    <tr>\n",
       "      <th>count</th>\n",
       "      <td>650559.000000</td>\n",
       "      <td>359887.000000</td>\n",
       "      <td>359878.000000</td>\n",
       "      <td>431440.000000</td>\n",
       "      <td>431261.000000</td>\n",
       "      <td>294805.000000</td>\n",
       "      <td>421391.000000</td>\n",
       "      <td>421400.000000</td>\n",
       "      <td>431614.000000</td>\n",
       "      <td>536151.000000</td>\n",
       "      <td>377259.000000</td>\n",
       "      <td>410997.000000</td>\n",
       "      <td>539127.000000</td>\n",
       "      <td>650559.000000</td>\n",
       "      <td>650559.000000</td>\n",
       "      <td>644480.000000</td>\n",
       "      <td>5.361510e+05</td>\n",
       "      <td>4.316140e+05</td>\n",
       "      <td>421534.000000</td>\n",
       "      <td>320572.000000</td>\n",
       "      <td>351878.000000</td>\n",
       "    </tr>\n",
       "    <tr>\n",
       "      <th>mean</th>\n",
       "      <td>66302.368738</td>\n",
       "      <td>0.031785</td>\n",
       "      <td>0.196827</td>\n",
       "      <td>132.585670</td>\n",
       "      <td>4212.385340</td>\n",
       "      <td>0.220682</td>\n",
       "      <td>1.321981</td>\n",
       "      <td>1.179354</td>\n",
       "      <td>249.966552</td>\n",
       "      <td>206.243560</td>\n",
       "      <td>4.322536</td>\n",
       "      <td>614.667439</td>\n",
       "      <td>5067.191378</td>\n",
       "      <td>0.009586</td>\n",
       "      <td>67.010387</td>\n",
       "      <td>0.009609</td>\n",
       "      <td>5.761477e+04</td>\n",
       "      <td>7.142006e+04</td>\n",
       "      <td>0.688865</td>\n",
       "      <td>0.069092</td>\n",
       "      <td>0.106887</td>\n",
       "    </tr>\n",
       "    <tr>\n",
       "      <th>std</th>\n",
       "      <td>25464.993754</td>\n",
       "      <td>0.661380</td>\n",
       "      <td>16.182553</td>\n",
       "      <td>719.826852</td>\n",
       "      <td>13804.640483</td>\n",
       "      <td>18.687047</td>\n",
       "      <td>139.753403</td>\n",
       "      <td>122.044338</td>\n",
       "      <td>753.284841</td>\n",
       "      <td>682.508072</td>\n",
       "      <td>123.781727</td>\n",
       "      <td>3932.335189</td>\n",
       "      <td>1937.931848</td>\n",
       "      <td>0.119375</td>\n",
       "      <td>2138.101758</td>\n",
       "      <td>0.119659</td>\n",
       "      <td>4.547377e+06</td>\n",
       "      <td>5.061779e+06</td>\n",
       "      <td>2.755243</td>\n",
       "      <td>0.380383</td>\n",
       "      <td>1.407818</td>\n",
       "    </tr>\n",
       "    <tr>\n",
       "      <th>min</th>\n",
       "      <td>10051.000000</td>\n",
       "      <td>0.000000</td>\n",
       "      <td>0.000000</td>\n",
       "      <td>-61659.000000</td>\n",
       "      <td>-90520.000000</td>\n",
       "      <td>-624.666667</td>\n",
       "      <td>-14348.448158</td>\n",
       "      <td>-14473.812143</td>\n",
       "      <td>0.001000</td>\n",
       "      <td>0.001000</td>\n",
       "      <td>-2023.130000</td>\n",
       "      <td>-110807.000000</td>\n",
       "      <td>100.000000</td>\n",
       "      <td>-0.981295</td>\n",
       "      <td>0.031250</td>\n",
       "      <td>-0.981295</td>\n",
       "      <td>1.925000e-02</td>\n",
       "      <td>6.187500e-03</td>\n",
       "      <td>0.000006</td>\n",
       "      <td>0.000000</td>\n",
       "      <td>0.000000</td>\n",
       "    </tr>\n",
       "    <tr>\n",
       "      <th>25%</th>\n",
       "      <td>51263.000000</td>\n",
       "      <td>0.006111</td>\n",
       "      <td>0.019679</td>\n",
       "      <td>4.069000</td>\n",
       "      <td>298.178000</td>\n",
       "      <td>0.022108</td>\n",
       "      <td>0.450746</td>\n",
       "      <td>0.459257</td>\n",
       "      <td>30.341750</td>\n",
       "      <td>21.690000</td>\n",
       "      <td>0.470000</td>\n",
       "      <td>14.270000</td>\n",
       "      <td>3533.000000</td>\n",
       "      <td>-0.040157</td>\n",
       "      <td>12.170000</td>\n",
       "      <td>-0.040458</td>\n",
       "      <td>3.266799e+02</td>\n",
       "      <td>5.850541e+02</td>\n",
       "      <td>0.328020</td>\n",
       "      <td>0.038121</td>\n",
       "      <td>0.029735</td>\n",
       "    </tr>\n",
       "    <tr>\n",
       "      <th>50%</th>\n",
       "      <td>77366.000000</td>\n",
       "      <td>0.012775</td>\n",
       "      <td>0.033590</td>\n",
       "      <td>20.086000</td>\n",
       "      <td>827.600000</td>\n",
       "      <td>0.047823</td>\n",
       "      <td>0.941685</td>\n",
       "      <td>0.944844</td>\n",
       "      <td>65.139000</td>\n",
       "      <td>50.277000</td>\n",
       "      <td>1.380000</td>\n",
       "      <td>74.900000</td>\n",
       "      <td>5621.000000</td>\n",
       "      <td>0.008070</td>\n",
       "      <td>20.625000</td>\n",
       "      <td>0.008345</td>\n",
       "      <td>1.095668e+03</td>\n",
       "      <td>1.726832e+03</td>\n",
       "      <td>0.533668</td>\n",
       "      <td>0.056028</td>\n",
       "      <td>0.061191</td>\n",
       "    </tr>\n",
       "    <tr>\n",
       "      <th>75%</th>\n",
       "      <td>85440.000000</td>\n",
       "      <td>0.022541</td>\n",
       "      <td>0.053081</td>\n",
       "      <td>79.167000</td>\n",
       "      <td>2559.400000</td>\n",
       "      <td>0.087879</td>\n",
       "      <td>1.249056</td>\n",
       "      <td>1.249839</td>\n",
       "      <td>171.200000</td>\n",
       "      <td>132.024000</td>\n",
       "      <td>2.510000</td>\n",
       "      <td>301.900000</td>\n",
       "      <td>6726.000000</td>\n",
       "      <td>0.056277</td>\n",
       "      <td>36.750000</td>\n",
       "      <td>0.056478</td>\n",
       "      <td>3.972307e+03</td>\n",
       "      <td>5.685744e+03</td>\n",
       "      <td>0.812773</td>\n",
       "      <td>0.078340</td>\n",
       "      <td>0.112942</td>\n",
       "    </tr>\n",
       "    <tr>\n",
       "      <th>max</th>\n",
       "      <td>93427.000000</td>\n",
       "      <td>64.832168</td>\n",
       "      <td>5395.000000</td>\n",
       "      <td>26615.000000</td>\n",
       "      <td>258627.000000</td>\n",
       "      <td>5395.000000</td>\n",
       "      <td>26519.144325</td>\n",
       "      <td>39375.976744</td>\n",
       "      <td>39765.020000</td>\n",
       "      <td>29206.441000</td>\n",
       "      <td>8967.000000</td>\n",
       "      <td>199470.000000</td>\n",
       "      <td>9997.000000</td>\n",
       "      <td>5.551724</td>\n",
       "      <td>226000.000000</td>\n",
       "      <td>5.551724</td>\n",
       "      <td>5.569463e+08</td>\n",
       "      <td>5.571316e+08</td>\n",
       "      <td>1144.711959</td>\n",
       "      <td>91.786751</td>\n",
       "      <td>425.767091</td>\n",
       "    </tr>\n",
       "  </tbody>\n",
       "</table>\n",
       "</div>"
      ],
      "text/plain": [
       "              PERMNO            roe  ...             ep            cfp\n",
       "count  650559.000000  359887.000000  ...  320572.000000  351878.000000\n",
       "mean    66302.368738       0.031785  ...       0.069092       0.106887\n",
       "std     25464.993754       0.661380  ...       0.380383       1.407818\n",
       "min     10051.000000       0.000000  ...       0.000000       0.000000\n",
       "25%     51263.000000       0.006111  ...       0.038121       0.029735\n",
       "50%     77366.000000       0.012775  ...       0.056028       0.061191\n",
       "75%     85440.000000       0.022541  ...       0.078340       0.112942\n",
       "max     93427.000000      64.832168  ...      91.786751     425.767091\n",
       "\n",
       "[8 rows x 21 columns]"
      ]
     },
     "execution_count": 34,
     "metadata": {
      "tags": []
     },
     "output_type": "execute_result"
    }
   ],
   "source": [
    "data1.index = data1['date']\n",
    "data1.sort_index(inplace = True)\n",
    "data1.describe()"
   ]
  },
  {
   "cell_type": "code",
   "execution_count": 0,
   "metadata": {
    "colab": {},
    "colab_type": "code",
    "id": "xN7j5nfe4ci_"
   },
   "outputs": [],
   "source": [
    "data1 = data1.loc['1998-01':]"
   ]
  },
  {
   "cell_type": "code",
   "execution_count": 0,
   "metadata": {
    "colab": {
     "base_uri": "https://localhost:8080/",
     "height": 85
    },
    "colab_type": "code",
    "id": "SNfWXmXp4cjC",
    "outputId": "6581088a-cc25-494b-92b5-65a904936b10"
   },
   "outputs": [
    {
     "data": {
      "text/plain": [
       "Index(['date', 'PERMNO', 'roe', 'roa', 'niq', 'equity', 'roic', 'roag', 'roeg',\n",
       "       'share_total', 'share_common', 'eps', 'cf', 'sic', 'RET', 'PRC',\n",
       "       'RETt+1', 'cmkt', 'tmkt', 'bm', 'ep', 'cfp'],\n",
       "      dtype='object')"
      ]
     },
     "execution_count": 36,
     "metadata": {
      "tags": []
     },
     "output_type": "execute_result"
    }
   ],
   "source": [
    "data1.columns"
   ]
  },
  {
   "cell_type": "code",
   "execution_count": 0,
   "metadata": {
    "colab": {},
    "colab_type": "code",
    "id": "YXUSKX5Q9pVl"
   },
   "outputs": [],
   "source": [
    "data1.index.rename('Index', inplace=True)"
   ]
  },
  {
   "cell_type": "markdown",
   "metadata": {
    "colab_type": "text",
    "id": "mBbJiSvT4cjF"
   },
   "source": [
    "# ------   Profit  ----- #"
   ]
  },
  {
   "cell_type": "markdown",
   "metadata": {
    "colab_type": "text",
    "id": "5uDI7KOb4cjF"
   },
   "source": [
    "# 1. ROE "
   ]
  },
  {
   "cell_type": "code",
   "execution_count": 0,
   "metadata": {
    "colab": {},
    "colab_type": "code",
    "id": "AWUyOg8b4cjG"
   },
   "outputs": [],
   "source": [
    "def single_factor_backtest(data,factor):\n",
    "    \"\"\"\n",
    "    data : df\n",
    "    factor : string\n",
    "    \"\"\"\n",
    "    ## Rank \n",
    "    rank_profit = data.groupby(['date']).apply(lambda x: x.sort_values(factor, ascending=True))\n",
    "    \n",
    "    rank_profit['date'] = pd.to_datetime(rank_profit.date, format = '%Y-%m')\n",
    "    month_list = list(rank_profit['date'].unique())\n",
    "\n",
    "    return_data = {'g01':[ ],'g02':[ ],'g03':[ ],'g04':[ ],'g05':[ ],\n",
    "                   'g06':[ ],'g07':[ ],'g08':[ ],'g09':[ ],'g10':[ ]}\n",
    "\n",
    "\n",
    "    group_num = 10 ## <= 10\n",
    "\n",
    "    for month in month_list:\n",
    "        monthdata = rank_profit[rank_profit['date'] == month].sort_values(factor, ascending=True)\n",
    "\n",
    "        monthdata.index = [i for i in range(1, len(monthdata) + 1)]\n",
    "        month_index = [i for i in range(1, sum(monthdata.roe.notna()) + 1)]\n",
    "\n",
    "\n",
    "        dict_keys = list(return_data.keys())\n",
    "\n",
    "        percentile_unit = 100/group_num\n",
    "\n",
    "        i = 0\n",
    "\n",
    "        while i < group_num:\n",
    "            temp_group = monthdata[(monthdata.index >= np.percentile(month_index,i * percentile_unit)) \\\n",
    "            & (monthdata.index < np.percentile(month_index,(i+1) * percentile_unit))]\n",
    "\n",
    "            return_data[dict_keys[i]].append(temp_group['RETt+1'].mean())\n",
    "\n",
    "            i = i + 1\n",
    "    \n",
    "    group_return = pd.DataFrame(return_data)\n",
    "    group_return.index = month_list\n",
    "    \n",
    "    return group_return"
   ]
  },
  {
   "cell_type": "code",
   "execution_count": 0,
   "metadata": {
    "colab": {},
    "colab_type": "code",
    "id": "AlHV13rC4cjL"
   },
   "outputs": [],
   "source": [
    "def visualize(group_return,describe = False,bar_plot = False,Long_Only = False,Long_Short = False):\n",
    "    if describe:\n",
    "        group_return.describe()\n",
    "    if bar_plot:\n",
    "        \n",
    "        group_mean_return = pd.DataFrame(group_return.mean())\n",
    "        group_mean_return.plot(kind = 'bar',label='Average Ret',figsize = [8,4],legend = False,title = \"Average Return of 10 Groups\")\n",
    "        plt.show()\n",
    "        \n",
    "    if Long_Only:\n",
    "    \n",
    "        L_strat = group_return['g10']\n",
    "        fig = plt.figure(figsize = [8,4])\n",
    "        plt.plot((L_strat + 1).cumprod())\n",
    "        plt.title(\"Cummulative Return of LONG-ONLY Strategy\")\n",
    "        plt.show()\n",
    "    if Long_Short:\n",
    "        LS_strat_1001 = group_return['g10'] + (-1) * group_return['g01']\n",
    "        fig = plt.figure(figsize = [8,4])\n",
    "        plt.plot((LS_strat_1001 + 1).cumprod())\n",
    "        plt.title(\"Cummulative Return of LONG-SHORT Strategy\")\n",
    "        plt.show()\n"
   ]
  },
  {
   "cell_type": "code",
   "execution_count": 0,
   "metadata": {
    "colab": {},
    "colab_type": "code",
    "id": "QHyYzirv4cjN"
   },
   "outputs": [],
   "source": [
    "roe_group_return = single_factor_backtest(data1,'roe')"
   ]
  },
  {
   "cell_type": "code",
   "execution_count": 0,
   "metadata": {
    "colab": {
     "base_uri": "https://localhost:8080/",
     "height": 297
    },
    "colab_type": "code",
    "id": "i6SEQOs54cjQ",
    "outputId": "1fa7ac60-1ecd-4fda-f1dd-9d0d527e7b60"
   },
   "outputs": [
    {
     "data": {
      "text/html": [
       "<div>\n",
       "<style scoped>\n",
       "    .dataframe tbody tr th:only-of-type {\n",
       "        vertical-align: middle;\n",
       "    }\n",
       "\n",
       "    .dataframe tbody tr th {\n",
       "        vertical-align: top;\n",
       "    }\n",
       "\n",
       "    .dataframe thead th {\n",
       "        text-align: right;\n",
       "    }\n",
       "</style>\n",
       "<table border=\"1\" class=\"dataframe\">\n",
       "  <thead>\n",
       "    <tr style=\"text-align: right;\">\n",
       "      <th></th>\n",
       "      <th>g01</th>\n",
       "      <th>g02</th>\n",
       "      <th>g03</th>\n",
       "      <th>g04</th>\n",
       "      <th>g05</th>\n",
       "      <th>g06</th>\n",
       "      <th>g07</th>\n",
       "      <th>g08</th>\n",
       "      <th>g09</th>\n",
       "      <th>g10</th>\n",
       "    </tr>\n",
       "  </thead>\n",
       "  <tbody>\n",
       "    <tr>\n",
       "      <th>count</th>\n",
       "      <td>215.000000</td>\n",
       "      <td>215.000000</td>\n",
       "      <td>215.000000</td>\n",
       "      <td>215.000000</td>\n",
       "      <td>215.000000</td>\n",
       "      <td>215.000000</td>\n",
       "      <td>215.000000</td>\n",
       "      <td>215.000000</td>\n",
       "      <td>215.000000</td>\n",
       "      <td>215.000000</td>\n",
       "    </tr>\n",
       "    <tr>\n",
       "      <th>mean</th>\n",
       "      <td>0.008494</td>\n",
       "      <td>0.010034</td>\n",
       "      <td>0.010752</td>\n",
       "      <td>0.012432</td>\n",
       "      <td>0.012450</td>\n",
       "      <td>0.011145</td>\n",
       "      <td>0.014238</td>\n",
       "      <td>0.013678</td>\n",
       "      <td>0.014048</td>\n",
       "      <td>0.017451</td>\n",
       "    </tr>\n",
       "    <tr>\n",
       "      <th>std</th>\n",
       "      <td>0.060594</td>\n",
       "      <td>0.054932</td>\n",
       "      <td>0.051891</td>\n",
       "      <td>0.049525</td>\n",
       "      <td>0.049122</td>\n",
       "      <td>0.048712</td>\n",
       "      <td>0.049825</td>\n",
       "      <td>0.048988</td>\n",
       "      <td>0.049720</td>\n",
       "      <td>0.050933</td>\n",
       "    </tr>\n",
       "    <tr>\n",
       "      <th>min</th>\n",
       "      <td>-0.264535</td>\n",
       "      <td>-0.277974</td>\n",
       "      <td>-0.252950</td>\n",
       "      <td>-0.211421</td>\n",
       "      <td>-0.224032</td>\n",
       "      <td>-0.201403</td>\n",
       "      <td>-0.196579</td>\n",
       "      <td>-0.210422</td>\n",
       "      <td>-0.212592</td>\n",
       "      <td>-0.203524</td>\n",
       "    </tr>\n",
       "    <tr>\n",
       "      <th>25%</th>\n",
       "      <td>-0.018687</td>\n",
       "      <td>-0.017928</td>\n",
       "      <td>-0.014100</td>\n",
       "      <td>-0.014823</td>\n",
       "      <td>-0.012418</td>\n",
       "      <td>-0.016971</td>\n",
       "      <td>-0.010017</td>\n",
       "      <td>-0.014523</td>\n",
       "      <td>-0.015102</td>\n",
       "      <td>-0.008521</td>\n",
       "    </tr>\n",
       "    <tr>\n",
       "      <th>50%</th>\n",
       "      <td>0.010031</td>\n",
       "      <td>0.012578</td>\n",
       "      <td>0.011761</td>\n",
       "      <td>0.013784</td>\n",
       "      <td>0.015893</td>\n",
       "      <td>0.012869</td>\n",
       "      <td>0.016301</td>\n",
       "      <td>0.014651</td>\n",
       "      <td>0.014398</td>\n",
       "      <td>0.017925</td>\n",
       "    </tr>\n",
       "    <tr>\n",
       "      <th>75%</th>\n",
       "      <td>0.037384</td>\n",
       "      <td>0.042374</td>\n",
       "      <td>0.041733</td>\n",
       "      <td>0.042227</td>\n",
       "      <td>0.044261</td>\n",
       "      <td>0.042820</td>\n",
       "      <td>0.047395</td>\n",
       "      <td>0.045299</td>\n",
       "      <td>0.046672</td>\n",
       "      <td>0.052757</td>\n",
       "    </tr>\n",
       "    <tr>\n",
       "      <th>max</th>\n",
       "      <td>0.319810</td>\n",
       "      <td>0.266173</td>\n",
       "      <td>0.267369</td>\n",
       "      <td>0.194883</td>\n",
       "      <td>0.222952</td>\n",
       "      <td>0.169701</td>\n",
       "      <td>0.176534</td>\n",
       "      <td>0.154857</td>\n",
       "      <td>0.150241</td>\n",
       "      <td>0.163258</td>\n",
       "    </tr>\n",
       "  </tbody>\n",
       "</table>\n",
       "</div>"
      ],
      "text/plain": [
       "              g01         g02         g03  ...         g08         g09         g10\n",
       "count  215.000000  215.000000  215.000000  ...  215.000000  215.000000  215.000000\n",
       "mean     0.008494    0.010034    0.010752  ...    0.013678    0.014048    0.017451\n",
       "std      0.060594    0.054932    0.051891  ...    0.048988    0.049720    0.050933\n",
       "min     -0.264535   -0.277974   -0.252950  ...   -0.210422   -0.212592   -0.203524\n",
       "25%     -0.018687   -0.017928   -0.014100  ...   -0.014523   -0.015102   -0.008521\n",
       "50%      0.010031    0.012578    0.011761  ...    0.014651    0.014398    0.017925\n",
       "75%      0.037384    0.042374    0.041733  ...    0.045299    0.046672    0.052757\n",
       "max      0.319810    0.266173    0.267369  ...    0.154857    0.150241    0.163258\n",
       "\n",
       "[8 rows x 10 columns]"
      ]
     },
     "execution_count": 41,
     "metadata": {
      "tags": []
     },
     "output_type": "execute_result"
    }
   ],
   "source": [
    "roe_group_return.describe()"
   ]
  },
  {
   "cell_type": "code",
   "execution_count": 0,
   "metadata": {
    "colab": {
     "base_uri": "https://localhost:8080/",
     "height": 818
    },
    "colab_type": "code",
    "id": "FH3716-r4cjS",
    "outputId": "afdd78de-82f9-4821-f12e-d7375ab3dfaf"
   },
   "outputs": [
    {
     "data": {
      "image/png": "[encoded data removed]",
      "text/plain": [
       "<Figure size 576x288 with 1 Axes>"
      ]
     },
     "metadata": {
      "tags": []
     },
     "output_type": "display_data"
    },
    {
     "data": {
      "image/png": "[encoded data removed]",
      "text/plain": [
       "<Figure size 576x288 with 1 Axes>"
      ]
     },
     "metadata": {
      "tags": []
     },
     "output_type": "display_data"
    },
    {
     "data": {
      "image/png": "[encoded data removed]",
      "text/plain": [
       "<Figure size 576x288 with 1 Axes>"
      ]
     },
     "metadata": {
      "tags": []
     },
     "output_type": "display_data"
    }
   ],
   "source": [
    "visualize(roe_group_return,bar_plot=True)\n",
    "visualize(roe_group_return,Long_Only=True)\n",
    "visualize(roe_group_return,Long_Short=True)"
   ]
  },
  {
   "cell_type": "markdown",
   "metadata": {
    "colab_type": "text",
    "id": "zYC-XLHo4cjU"
   },
   "source": [
    "### since we put lots of nan into the middle"
   ]
  },
  {
   "cell_type": "markdown",
   "metadata": {
    "colab_type": "text",
    "id": "vcmm2g154cjV"
   },
   "source": [
    "# 2. ROA"
   ]
  },
  {
   "cell_type": "code",
   "execution_count": 0,
   "metadata": {
    "colab": {},
    "colab_type": "code",
    "id": "lVR9YbDG4cjW"
   },
   "outputs": [],
   "source": [
    "roa_group_return = single_factor_backtest(data1,'roa')"
   ]
  },
  {
   "cell_type": "code",
   "execution_count": 0,
   "metadata": {
    "colab": {
     "base_uri": "https://localhost:8080/",
     "height": 297
    },
    "colab_type": "code",
    "id": "SiXW5D0r4cja",
    "outputId": "327aa5d4-8a67-431d-ece3-b05b638a05c0"
   },
   "outputs": [
    {
     "data": {
      "text/html": [
       "<div>\n",
       "<style scoped>\n",
       "    .dataframe tbody tr th:only-of-type {\n",
       "        vertical-align: middle;\n",
       "    }\n",
       "\n",
       "    .dataframe tbody tr th {\n",
       "        vertical-align: top;\n",
       "    }\n",
       "\n",
       "    .dataframe thead th {\n",
       "        text-align: right;\n",
       "    }\n",
       "</style>\n",
       "<table border=\"1\" class=\"dataframe\">\n",
       "  <thead>\n",
       "    <tr style=\"text-align: right;\">\n",
       "      <th></th>\n",
       "      <th>g01</th>\n",
       "      <th>g02</th>\n",
       "      <th>g03</th>\n",
       "      <th>g04</th>\n",
       "      <th>g05</th>\n",
       "      <th>g06</th>\n",
       "      <th>g07</th>\n",
       "      <th>g08</th>\n",
       "      <th>g09</th>\n",
       "      <th>g10</th>\n",
       "    </tr>\n",
       "  </thead>\n",
       "  <tbody>\n",
       "    <tr>\n",
       "      <th>count</th>\n",
       "      <td>215.000000</td>\n",
       "      <td>215.000000</td>\n",
       "      <td>215.000000</td>\n",
       "      <td>215.000000</td>\n",
       "      <td>215.000000</td>\n",
       "      <td>215.000000</td>\n",
       "      <td>215.000000</td>\n",
       "      <td>215.000000</td>\n",
       "      <td>215.000000</td>\n",
       "      <td>215.000000</td>\n",
       "    </tr>\n",
       "    <tr>\n",
       "      <th>mean</th>\n",
       "      <td>0.007392</td>\n",
       "      <td>0.009917</td>\n",
       "      <td>0.010017</td>\n",
       "      <td>0.011582</td>\n",
       "      <td>0.011220</td>\n",
       "      <td>0.012958</td>\n",
       "      <td>0.013545</td>\n",
       "      <td>0.013557</td>\n",
       "      <td>0.016025</td>\n",
       "      <td>0.018505</td>\n",
       "    </tr>\n",
       "    <tr>\n",
       "      <th>std</th>\n",
       "      <td>0.058999</td>\n",
       "      <td>0.054684</td>\n",
       "      <td>0.049126</td>\n",
       "      <td>0.049297</td>\n",
       "      <td>0.049280</td>\n",
       "      <td>0.048904</td>\n",
       "      <td>0.048915</td>\n",
       "      <td>0.049685</td>\n",
       "      <td>0.049492</td>\n",
       "      <td>0.053296</td>\n",
       "    </tr>\n",
       "    <tr>\n",
       "      <th>min</th>\n",
       "      <td>-0.286144</td>\n",
       "      <td>-0.267294</td>\n",
       "      <td>-0.230218</td>\n",
       "      <td>-0.204080</td>\n",
       "      <td>-0.211552</td>\n",
       "      <td>-0.198374</td>\n",
       "      <td>-0.216148</td>\n",
       "      <td>-0.213479</td>\n",
       "      <td>-0.212654</td>\n",
       "      <td>-0.216277</td>\n",
       "    </tr>\n",
       "    <tr>\n",
       "      <th>25%</th>\n",
       "      <td>-0.020089</td>\n",
       "      <td>-0.018041</td>\n",
       "      <td>-0.017548</td>\n",
       "      <td>-0.013103</td>\n",
       "      <td>-0.013688</td>\n",
       "      <td>-0.011305</td>\n",
       "      <td>-0.012614</td>\n",
       "      <td>-0.010501</td>\n",
       "      <td>-0.010216</td>\n",
       "      <td>-0.008683</td>\n",
       "    </tr>\n",
       "    <tr>\n",
       "      <th>50%</th>\n",
       "      <td>0.007994</td>\n",
       "      <td>0.010156</td>\n",
       "      <td>0.014169</td>\n",
       "      <td>0.012850</td>\n",
       "      <td>0.013199</td>\n",
       "      <td>0.018737</td>\n",
       "      <td>0.016904</td>\n",
       "      <td>0.016276</td>\n",
       "      <td>0.017232</td>\n",
       "      <td>0.021142</td>\n",
       "    </tr>\n",
       "    <tr>\n",
       "      <th>75%</th>\n",
       "      <td>0.038475</td>\n",
       "      <td>0.041788</td>\n",
       "      <td>0.041486</td>\n",
       "      <td>0.043322</td>\n",
       "      <td>0.042775</td>\n",
       "      <td>0.041295</td>\n",
       "      <td>0.042445</td>\n",
       "      <td>0.043096</td>\n",
       "      <td>0.045987</td>\n",
       "      <td>0.050911</td>\n",
       "    </tr>\n",
       "    <tr>\n",
       "      <th>max</th>\n",
       "      <td>0.296853</td>\n",
       "      <td>0.275471</td>\n",
       "      <td>0.198268</td>\n",
       "      <td>0.197066</td>\n",
       "      <td>0.187457</td>\n",
       "      <td>0.171291</td>\n",
       "      <td>0.166800</td>\n",
       "      <td>0.168690</td>\n",
       "      <td>0.161319</td>\n",
       "      <td>0.192083</td>\n",
       "    </tr>\n",
       "  </tbody>\n",
       "</table>\n",
       "</div>"
      ],
      "text/plain": [
       "              g01         g02         g03  ...         g08         g09         g10\n",
       "count  215.000000  215.000000  215.000000  ...  215.000000  215.000000  215.000000\n",
       "mean     0.007392    0.009917    0.010017  ...    0.013557    0.016025    0.018505\n",
       "std      0.058999    0.054684    0.049126  ...    0.049685    0.049492    0.053296\n",
       "min     -0.286144   -0.267294   -0.230218  ...   -0.213479   -0.212654   -0.216277\n",
       "25%     -0.020089   -0.018041   -0.017548  ...   -0.010501   -0.010216   -0.008683\n",
       "50%      0.007994    0.010156    0.014169  ...    0.016276    0.017232    0.021142\n",
       "75%      0.038475    0.041788    0.041486  ...    0.043096    0.045987    0.050911\n",
       "max      0.296853    0.275471    0.198268  ...    0.168690    0.161319    0.192083\n",
       "\n",
       "[8 rows x 10 columns]"
      ]
     },
     "execution_count": 44,
     "metadata": {
      "tags": []
     },
     "output_type": "execute_result"
    }
   ],
   "source": [
    "roa_group_return.describe()"
   ]
  },
  {
   "cell_type": "code",
   "execution_count": 0,
   "metadata": {
    "colab": {
     "base_uri": "https://localhost:8080/",
     "height": 818
    },
    "colab_type": "code",
    "id": "sAN9x7ER4cjd",
    "outputId": "8306e7b0-c12e-4f50-8e73-7ac985ae83e1"
   },
   "outputs": [
    {
     "data": {
      "image/png": "[encoded data removed]",
      "text/plain": [
       "<Figure size 576x288 with 1 Axes>"
      ]
     },
     "metadata": {
      "tags": []
     },
     "output_type": "display_data"
    },
    {
     "data": {
      "image/png": "[encoded data removed]",
      "text/plain": [
       "<Figure size 576x288 with 1 Axes>"
      ]
     },
     "metadata": {
      "tags": []
     },
     "output_type": "display_data"
    },
    {
     "data": {
      "image/png": "[encoded data removed]",
      "text/plain": [
       "<Figure size 576x288 with 1 Axes>"
      ]
     },
     "metadata": {
      "tags": []
     },
     "output_type": "display_data"
    }
   ],
   "source": [
    "visualize(roa_group_return,bar_plot=True)\n",
    "visualize(roa_group_return,Long_Only=True)\n",
    "visualize(roa_group_return,Long_Short=True)"
   ]
  },
  {
   "cell_type": "markdown",
   "metadata": {
    "colab_type": "text",
    "id": "Rutt1qMY4cji"
   },
   "source": [
    "## 3. ROIC"
   ]
  },
  {
   "cell_type": "code",
   "execution_count": 0,
   "metadata": {
    "colab": {},
    "colab_type": "code",
    "id": "g_hs9J934cji"
   },
   "outputs": [],
   "source": [
    "roic_group_return = single_factor_backtest(data1,'roic')"
   ]
  },
  {
   "cell_type": "code",
   "execution_count": 0,
   "metadata": {
    "colab": {
     "base_uri": "https://localhost:8080/",
     "height": 297
    },
    "colab_type": "code",
    "id": "UniHUmCw4cjl",
    "outputId": "7cb73242-4edf-47a6-e847-258cfadc4218"
   },
   "outputs": [
    {
     "data": {
      "text/html": [
       "<div>\n",
       "<style scoped>\n",
       "    .dataframe tbody tr th:only-of-type {\n",
       "        vertical-align: middle;\n",
       "    }\n",
       "\n",
       "    .dataframe tbody tr th {\n",
       "        vertical-align: top;\n",
       "    }\n",
       "\n",
       "    .dataframe thead th {\n",
       "        text-align: right;\n",
       "    }\n",
       "</style>\n",
       "<table border=\"1\" class=\"dataframe\">\n",
       "  <thead>\n",
       "    <tr style=\"text-align: right;\">\n",
       "      <th></th>\n",
       "      <th>g01</th>\n",
       "      <th>g02</th>\n",
       "      <th>g03</th>\n",
       "      <th>g04</th>\n",
       "      <th>g05</th>\n",
       "      <th>g06</th>\n",
       "      <th>g07</th>\n",
       "      <th>g08</th>\n",
       "      <th>g09</th>\n",
       "      <th>g10</th>\n",
       "    </tr>\n",
       "  </thead>\n",
       "  <tbody>\n",
       "    <tr>\n",
       "      <th>count</th>\n",
       "      <td>215.000000</td>\n",
       "      <td>215.000000</td>\n",
       "      <td>215.000000</td>\n",
       "      <td>215.000000</td>\n",
       "      <td>215.000000</td>\n",
       "      <td>215.000000</td>\n",
       "      <td>215.000000</td>\n",
       "      <td>215.000000</td>\n",
       "      <td>215.000000</td>\n",
       "      <td>215.000000</td>\n",
       "    </tr>\n",
       "    <tr>\n",
       "      <th>mean</th>\n",
       "      <td>0.004111</td>\n",
       "      <td>0.007843</td>\n",
       "      <td>0.012705</td>\n",
       "      <td>0.013533</td>\n",
       "      <td>0.014348</td>\n",
       "      <td>0.014905</td>\n",
       "      <td>0.013624</td>\n",
       "      <td>0.013907</td>\n",
       "      <td>0.009117</td>\n",
       "      <td>0.005490</td>\n",
       "    </tr>\n",
       "    <tr>\n",
       "      <th>std</th>\n",
       "      <td>0.075849</td>\n",
       "      <td>0.071491</td>\n",
       "      <td>0.065475</td>\n",
       "      <td>0.059589</td>\n",
       "      <td>0.056708</td>\n",
       "      <td>0.053353</td>\n",
       "      <td>0.050253</td>\n",
       "      <td>0.048095</td>\n",
       "      <td>0.046768</td>\n",
       "      <td>0.044938</td>\n",
       "    </tr>\n",
       "    <tr>\n",
       "      <th>min</th>\n",
       "      <td>-0.283791</td>\n",
       "      <td>-0.314046</td>\n",
       "      <td>-0.254406</td>\n",
       "      <td>-0.224339</td>\n",
       "      <td>-0.226771</td>\n",
       "      <td>-0.211318</td>\n",
       "      <td>-0.217911</td>\n",
       "      <td>-0.211174</td>\n",
       "      <td>-0.209440</td>\n",
       "      <td>-0.192059</td>\n",
       "    </tr>\n",
       "    <tr>\n",
       "      <th>25%</th>\n",
       "      <td>-0.033370</td>\n",
       "      <td>-0.025635</td>\n",
       "      <td>-0.018602</td>\n",
       "      <td>-0.019102</td>\n",
       "      <td>-0.013888</td>\n",
       "      <td>-0.014061</td>\n",
       "      <td>-0.013630</td>\n",
       "      <td>-0.014097</td>\n",
       "      <td>-0.014721</td>\n",
       "      <td>-0.016923</td>\n",
       "    </tr>\n",
       "    <tr>\n",
       "      <th>50%</th>\n",
       "      <td>0.000758</td>\n",
       "      <td>0.007163</td>\n",
       "      <td>0.016408</td>\n",
       "      <td>0.017170</td>\n",
       "      <td>0.017395</td>\n",
       "      <td>0.015236</td>\n",
       "      <td>0.014135</td>\n",
       "      <td>0.016215</td>\n",
       "      <td>0.012740</td>\n",
       "      <td>0.009247</td>\n",
       "    </tr>\n",
       "    <tr>\n",
       "      <th>75%</th>\n",
       "      <td>0.047555</td>\n",
       "      <td>0.047373</td>\n",
       "      <td>0.046638</td>\n",
       "      <td>0.048082</td>\n",
       "      <td>0.048380</td>\n",
       "      <td>0.049851</td>\n",
       "      <td>0.046788</td>\n",
       "      <td>0.045914</td>\n",
       "      <td>0.036756</td>\n",
       "      <td>0.030932</td>\n",
       "    </tr>\n",
       "    <tr>\n",
       "      <th>max</th>\n",
       "      <td>0.364533</td>\n",
       "      <td>0.355721</td>\n",
       "      <td>0.382883</td>\n",
       "      <td>0.336776</td>\n",
       "      <td>0.292320</td>\n",
       "      <td>0.258863</td>\n",
       "      <td>0.180235</td>\n",
       "      <td>0.159042</td>\n",
       "      <td>0.156389</td>\n",
       "      <td>0.128880</td>\n",
       "    </tr>\n",
       "  </tbody>\n",
       "</table>\n",
       "</div>"
      ],
      "text/plain": [
       "              g01         g02         g03  ...         g08         g09         g10\n",
       "count  215.000000  215.000000  215.000000  ...  215.000000  215.000000  215.000000\n",
       "mean     0.004111    0.007843    0.012705  ...    0.013907    0.009117    0.005490\n",
       "std      0.075849    0.071491    0.065475  ...    0.048095    0.046768    0.044938\n",
       "min     -0.283791   -0.314046   -0.254406  ...   -0.211174   -0.209440   -0.192059\n",
       "25%     -0.033370   -0.025635   -0.018602  ...   -0.014097   -0.014721   -0.016923\n",
       "50%      0.000758    0.007163    0.016408  ...    0.016215    0.012740    0.009247\n",
       "75%      0.047555    0.047373    0.046638  ...    0.045914    0.036756    0.030932\n",
       "max      0.364533    0.355721    0.382883  ...    0.159042    0.156389    0.128880\n",
       "\n",
       "[8 rows x 10 columns]"
      ]
     },
     "execution_count": 47,
     "metadata": {
      "tags": []
     },
     "output_type": "execute_result"
    }
   ],
   "source": [
    "roic_group_return.describe()"
   ]
  },
  {
   "cell_type": "code",
   "execution_count": 0,
   "metadata": {
    "colab": {
     "base_uri": "https://localhost:8080/",
     "height": 818
    },
    "colab_type": "code",
    "id": "jXPOHOGd4cjn",
    "outputId": "2dd453a3-5e48-4f24-bba8-a8d2d2208bd2"
   },
   "outputs": [
    {
     "data": {
      "image/png": "[encoded data removed]",
      "text/plain": [
       "<Figure size 576x288 with 1 Axes>"
      ]
     },
     "metadata": {
      "tags": []
     },
     "output_type": "display_data"
    },
    {
     "data": {
      "image/png": "[encoded data removed]",
      "text/plain": [
       "<Figure size 576x288 with 1 Axes>"
      ]
     },
     "metadata": {
      "tags": []
     },
     "output_type": "display_data"
    },
    {
     "data": {
      "image/png": "[encoded data removed]",
      "text/plain": [
       "<Figure size 576x288 with 1 Axes>"
      ]
     },
     "metadata": {
      "tags": []
     },
     "output_type": "display_data"
    }
   ],
   "source": [
    "visualize(roic_group_return,bar_plot=True)\n",
    "visualize(roic_group_return,Long_Only=True)\n",
    "visualize(roic_group_return,Long_Short=True)"
   ]
  },
  {
   "cell_type": "markdown",
   "metadata": {
    "colab_type": "text",
    "id": "UhU2xBkS4cjq"
   },
   "source": [
    "# -----    Value ---- #"
   ]
  },
  {
   "cell_type": "markdown",
   "metadata": {
    "colab_type": "text",
    "id": "NWXda2KL4cjr"
   },
   "source": [
    "# 1. Book to Market"
   ]
  },
  {
   "cell_type": "code",
   "execution_count": 0,
   "metadata": {
    "colab": {
     "base_uri": "https://localhost:8080/",
     "height": 297
    },
    "colab_type": "code",
    "id": "MZvX5jPd4cjr",
    "outputId": "b5bd5774-c954-4ad7-e407-b295f2a937ab"
   },
   "outputs": [
    {
     "data": {
      "text/html": [
       "<div>\n",
       "<style scoped>\n",
       "    .dataframe tbody tr th:only-of-type {\n",
       "        vertical-align: middle;\n",
       "    }\n",
       "\n",
       "    .dataframe tbody tr th {\n",
       "        vertical-align: top;\n",
       "    }\n",
       "\n",
       "    .dataframe thead th {\n",
       "        text-align: right;\n",
       "    }\n",
       "</style>\n",
       "<table border=\"1\" class=\"dataframe\">\n",
       "  <thead>\n",
       "    <tr style=\"text-align: right;\">\n",
       "      <th></th>\n",
       "      <th>g01</th>\n",
       "      <th>g02</th>\n",
       "      <th>g03</th>\n",
       "      <th>g04</th>\n",
       "      <th>g05</th>\n",
       "      <th>g06</th>\n",
       "      <th>g07</th>\n",
       "      <th>g08</th>\n",
       "      <th>g09</th>\n",
       "      <th>g10</th>\n",
       "    </tr>\n",
       "  </thead>\n",
       "  <tbody>\n",
       "    <tr>\n",
       "      <th>count</th>\n",
       "      <td>215.000000</td>\n",
       "      <td>215.000000</td>\n",
       "      <td>215.000000</td>\n",
       "      <td>215.000000</td>\n",
       "      <td>215.000000</td>\n",
       "      <td>215.000000</td>\n",
       "      <td>215.000000</td>\n",
       "      <td>215.000000</td>\n",
       "      <td>215.000000</td>\n",
       "      <td>215.000000</td>\n",
       "    </tr>\n",
       "    <tr>\n",
       "      <th>mean</th>\n",
       "      <td>0.009776</td>\n",
       "      <td>0.008324</td>\n",
       "      <td>0.008672</td>\n",
       "      <td>0.008673</td>\n",
       "      <td>0.009253</td>\n",
       "      <td>0.009484</td>\n",
       "      <td>0.009784</td>\n",
       "      <td>0.010921</td>\n",
       "      <td>0.011025</td>\n",
       "      <td>0.011103</td>\n",
       "    </tr>\n",
       "    <tr>\n",
       "      <th>std</th>\n",
       "      <td>0.047371</td>\n",
       "      <td>0.048212</td>\n",
       "      <td>0.049024</td>\n",
       "      <td>0.050115</td>\n",
       "      <td>0.050713</td>\n",
       "      <td>0.051005</td>\n",
       "      <td>0.050455</td>\n",
       "      <td>0.052554</td>\n",
       "      <td>0.054774</td>\n",
       "      <td>0.056936</td>\n",
       "    </tr>\n",
       "    <tr>\n",
       "      <th>min</th>\n",
       "      <td>-0.187227</td>\n",
       "      <td>-0.201905</td>\n",
       "      <td>-0.210104</td>\n",
       "      <td>-0.227625</td>\n",
       "      <td>-0.226065</td>\n",
       "      <td>-0.229958</td>\n",
       "      <td>-0.215216</td>\n",
       "      <td>-0.244851</td>\n",
       "      <td>-0.262935</td>\n",
       "      <td>-0.256648</td>\n",
       "    </tr>\n",
       "    <tr>\n",
       "      <th>25%</th>\n",
       "      <td>-0.018504</td>\n",
       "      <td>-0.019979</td>\n",
       "      <td>-0.019290</td>\n",
       "      <td>-0.019050</td>\n",
       "      <td>-0.016119</td>\n",
       "      <td>-0.018622</td>\n",
       "      <td>-0.016374</td>\n",
       "      <td>-0.015067</td>\n",
       "      <td>-0.016107</td>\n",
       "      <td>-0.015830</td>\n",
       "    </tr>\n",
       "    <tr>\n",
       "      <th>50%</th>\n",
       "      <td>0.015754</td>\n",
       "      <td>0.010643</td>\n",
       "      <td>0.010744</td>\n",
       "      <td>0.009232</td>\n",
       "      <td>0.014872</td>\n",
       "      <td>0.014859</td>\n",
       "      <td>0.015175</td>\n",
       "      <td>0.015496</td>\n",
       "      <td>0.014228</td>\n",
       "      <td>0.016289</td>\n",
       "    </tr>\n",
       "    <tr>\n",
       "      <th>75%</th>\n",
       "      <td>0.043257</td>\n",
       "      <td>0.039840</td>\n",
       "      <td>0.041126</td>\n",
       "      <td>0.042691</td>\n",
       "      <td>0.038746</td>\n",
       "      <td>0.040389</td>\n",
       "      <td>0.040176</td>\n",
       "      <td>0.041905</td>\n",
       "      <td>0.042051</td>\n",
       "      <td>0.040493</td>\n",
       "    </tr>\n",
       "    <tr>\n",
       "      <th>max</th>\n",
       "      <td>0.137994</td>\n",
       "      <td>0.127879</td>\n",
       "      <td>0.132210</td>\n",
       "      <td>0.166427</td>\n",
       "      <td>0.164654</td>\n",
       "      <td>0.154969</td>\n",
       "      <td>0.163575</td>\n",
       "      <td>0.219463</td>\n",
       "      <td>0.182465</td>\n",
       "      <td>0.252226</td>\n",
       "    </tr>\n",
       "  </tbody>\n",
       "</table>\n",
       "</div>"
      ],
      "text/plain": [
       "              g01         g02         g03  ...         g08         g09         g10\n",
       "count  215.000000  215.000000  215.000000  ...  215.000000  215.000000  215.000000\n",
       "mean     0.009776    0.008324    0.008672  ...    0.010921    0.011025    0.011103\n",
       "std      0.047371    0.048212    0.049024  ...    0.052554    0.054774    0.056936\n",
       "min     -0.187227   -0.201905   -0.210104  ...   -0.244851   -0.262935   -0.256648\n",
       "25%     -0.018504   -0.019979   -0.019290  ...   -0.015067   -0.016107   -0.015830\n",
       "50%      0.015754    0.010643    0.010744  ...    0.015496    0.014228    0.016289\n",
       "75%      0.043257    0.039840    0.041126  ...    0.041905    0.042051    0.040493\n",
       "max      0.137994    0.127879    0.132210  ...    0.219463    0.182465    0.252226\n",
       "\n",
       "[8 rows x 10 columns]"
      ]
     },
     "execution_count": 49,
     "metadata": {
      "tags": []
     },
     "output_type": "execute_result"
    }
   ],
   "source": [
    "bm_group_return = single_factor_backtest(data1,'bm')\n",
    "bm_group_return.describe()"
   ]
  },
  {
   "cell_type": "code",
   "execution_count": 0,
   "metadata": {
    "colab": {
     "base_uri": "https://localhost:8080/",
     "height": 818
    },
    "colab_type": "code",
    "id": "2Pa4diCW4cju",
    "outputId": "a398e19a-176c-47e0-fdd0-3fa479af59ac",
    "scrolled": false
   },
   "outputs": [
    {
     "data": {
      "image/png": "[encoded data removed]",
      "text/plain": [
       "<Figure size 576x288 with 1 Axes>"
      ]
     },
     "metadata": {
      "tags": []
     },
     "output_type": "display_data"
    },
    {
     "data": {
      "image/png": "[encoded data removed]",
      "text/plain": [
       "<Figure size 576x288 with 1 Axes>"
      ]
     },
     "metadata": {
      "tags": []
     },
     "output_type": "display_data"
    },
    {
     "data": {
      "image/png": "[encoded data removed]",
      "text/plain": [
       "<Figure size 576x288 with 1 Axes>"
      ]
     },
     "metadata": {
      "tags": []
     },
     "output_type": "display_data"
    }
   ],
   "source": [
    "visualize(bm_group_return,bar_plot=True)\n",
    "visualize(bm_group_return,Long_Only=True)\n",
    "visualize(bm_group_return,Long_Short=True)"
   ]
  },
  {
   "cell_type": "markdown",
   "metadata": {
    "colab_type": "text",
    "id": "Yzkfbycf4cjw"
   },
   "source": [
    "# 2. Earning Per Share to Price ratio"
   ]
  },
  {
   "cell_type": "code",
   "execution_count": 0,
   "metadata": {
    "colab": {
     "base_uri": "https://localhost:8080/",
     "height": 297
    },
    "colab_type": "code",
    "id": "HOuQFIar4cjx",
    "outputId": "48e28c3e-02ca-490a-8aad-21a40f37560a"
   },
   "outputs": [
    {
     "data": {
      "text/html": [
       "<div>\n",
       "<style scoped>\n",
       "    .dataframe tbody tr th:only-of-type {\n",
       "        vertical-align: middle;\n",
       "    }\n",
       "\n",
       "    .dataframe tbody tr th {\n",
       "        vertical-align: top;\n",
       "    }\n",
       "\n",
       "    .dataframe thead th {\n",
       "        text-align: right;\n",
       "    }\n",
       "</style>\n",
       "<table border=\"1\" class=\"dataframe\">\n",
       "  <thead>\n",
       "    <tr style=\"text-align: right;\">\n",
       "      <th></th>\n",
       "      <th>g01</th>\n",
       "      <th>g02</th>\n",
       "      <th>g03</th>\n",
       "      <th>g04</th>\n",
       "      <th>g05</th>\n",
       "      <th>g06</th>\n",
       "      <th>g07</th>\n",
       "      <th>g08</th>\n",
       "      <th>g09</th>\n",
       "      <th>g10</th>\n",
       "    </tr>\n",
       "  </thead>\n",
       "  <tbody>\n",
       "    <tr>\n",
       "      <th>count</th>\n",
       "      <td>215.000000</td>\n",
       "      <td>215.000000</td>\n",
       "      <td>215.000000</td>\n",
       "      <td>215.000000</td>\n",
       "      <td>215.000000</td>\n",
       "      <td>215.000000</td>\n",
       "      <td>215.000000</td>\n",
       "      <td>215.000000</td>\n",
       "      <td>215.000000</td>\n",
       "      <td>215.000000</td>\n",
       "    </tr>\n",
       "    <tr>\n",
       "      <th>mean</th>\n",
       "      <td>0.006863</td>\n",
       "      <td>0.007261</td>\n",
       "      <td>0.007054</td>\n",
       "      <td>0.008263</td>\n",
       "      <td>0.008174</td>\n",
       "      <td>0.010275</td>\n",
       "      <td>0.011425</td>\n",
       "      <td>0.014097</td>\n",
       "      <td>0.015444</td>\n",
       "      <td>0.018029</td>\n",
       "    </tr>\n",
       "    <tr>\n",
       "      <th>std</th>\n",
       "      <td>0.056039</td>\n",
       "      <td>0.050069</td>\n",
       "      <td>0.047143</td>\n",
       "      <td>0.044177</td>\n",
       "      <td>0.045016</td>\n",
       "      <td>0.044872</td>\n",
       "      <td>0.047465</td>\n",
       "      <td>0.050960</td>\n",
       "      <td>0.055152</td>\n",
       "      <td>0.062053</td>\n",
       "    </tr>\n",
       "    <tr>\n",
       "      <th>min</th>\n",
       "      <td>-0.280044</td>\n",
       "      <td>-0.235476</td>\n",
       "      <td>-0.221229</td>\n",
       "      <td>-0.189456</td>\n",
       "      <td>-0.213027</td>\n",
       "      <td>-0.190636</td>\n",
       "      <td>-0.195487</td>\n",
       "      <td>-0.219287</td>\n",
       "      <td>-0.227632</td>\n",
       "      <td>-0.242990</td>\n",
       "    </tr>\n",
       "    <tr>\n",
       "      <th>25%</th>\n",
       "      <td>-0.024067</td>\n",
       "      <td>-0.018694</td>\n",
       "      <td>-0.017955</td>\n",
       "      <td>-0.017701</td>\n",
       "      <td>-0.016168</td>\n",
       "      <td>-0.010800</td>\n",
       "      <td>-0.012523</td>\n",
       "      <td>-0.010305</td>\n",
       "      <td>-0.013142</td>\n",
       "      <td>-0.010433</td>\n",
       "    </tr>\n",
       "    <tr>\n",
       "      <th>50%</th>\n",
       "      <td>0.008206</td>\n",
       "      <td>0.011884</td>\n",
       "      <td>0.011489</td>\n",
       "      <td>0.010353</td>\n",
       "      <td>0.012709</td>\n",
       "      <td>0.012978</td>\n",
       "      <td>0.015993</td>\n",
       "      <td>0.015982</td>\n",
       "      <td>0.019001</td>\n",
       "      <td>0.022936</td>\n",
       "    </tr>\n",
       "    <tr>\n",
       "      <th>75%</th>\n",
       "      <td>0.044110</td>\n",
       "      <td>0.040848</td>\n",
       "      <td>0.038844</td>\n",
       "      <td>0.036656</td>\n",
       "      <td>0.037401</td>\n",
       "      <td>0.039129</td>\n",
       "      <td>0.037659</td>\n",
       "      <td>0.042928</td>\n",
       "      <td>0.046148</td>\n",
       "      <td>0.049916</td>\n",
       "    </tr>\n",
       "    <tr>\n",
       "      <th>max</th>\n",
       "      <td>0.208345</td>\n",
       "      <td>0.152295</td>\n",
       "      <td>0.113206</td>\n",
       "      <td>0.125040</td>\n",
       "      <td>0.137438</td>\n",
       "      <td>0.135234</td>\n",
       "      <td>0.189510</td>\n",
       "      <td>0.201385</td>\n",
       "      <td>0.253595</td>\n",
       "      <td>0.320867</td>\n",
       "    </tr>\n",
       "  </tbody>\n",
       "</table>\n",
       "</div>"
      ],
      "text/plain": [
       "              g01         g02         g03  ...         g08         g09         g10\n",
       "count  215.000000  215.000000  215.000000  ...  215.000000  215.000000  215.000000\n",
       "mean     0.006863    0.007261    0.007054  ...    0.014097    0.015444    0.018029\n",
       "std      0.056039    0.050069    0.047143  ...    0.050960    0.055152    0.062053\n",
       "min     -0.280044   -0.235476   -0.221229  ...   -0.219287   -0.227632   -0.242990\n",
       "25%     -0.024067   -0.018694   -0.017955  ...   -0.010305   -0.013142   -0.010433\n",
       "50%      0.008206    0.011884    0.011489  ...    0.015982    0.019001    0.022936\n",
       "75%      0.044110    0.040848    0.038844  ...    0.042928    0.046148    0.049916\n",
       "max      0.208345    0.152295    0.113206  ...    0.201385    0.253595    0.320867\n",
       "\n",
       "[8 rows x 10 columns]"
      ]
     },
     "execution_count": 51,
     "metadata": {
      "tags": []
     },
     "output_type": "execute_result"
    }
   ],
   "source": [
    "ep_group_return = single_factor_backtest(data1,'ep')\n",
    "ep_group_return.describe()"
   ]
  },
  {
   "cell_type": "code",
   "execution_count": 0,
   "metadata": {
    "colab": {
     "base_uri": "https://localhost:8080/",
     "height": 818
    },
    "colab_type": "code",
    "id": "J6FRApms4cjz",
    "outputId": "1bbe18b4-4283-4c13-f346-0b1cee857e49",
    "scrolled": false
   },
   "outputs": [
    {
     "data": {
      "image/png": "[encoded data removed]",
      "text/plain": [
       "<Figure size 576x288 with 1 Axes>"
      ]
     },
     "metadata": {
      "tags": []
     },
     "output_type": "display_data"
    },
    {
     "data": {
      "image/png": "[encoded data removed]",
      "text/plain": [
       "<Figure size 576x288 with 1 Axes>"
      ]
     },
     "metadata": {
      "tags": []
     },
     "output_type": "display_data"
    },
    {
     "data": {
      "image/png": "[encoded data removed]",
      "text/plain": [
       "<Figure size 576x288 with 1 Axes>"
      ]
     },
     "metadata": {
      "tags": []
     },
     "output_type": "display_data"
    }
   ],
   "source": [
    "visualize(ep_group_return,bar_plot=True)\n",
    "visualize(ep_group_return,Long_Only=True)\n",
    "visualize(ep_group_return,Long_Short=True)"
   ]
  },
  {
   "cell_type": "markdown",
   "metadata": {
    "colab_type": "text",
    "id": "LmOVMeM74cj1"
   },
   "source": [
    "# 3. Cash Flow Per Share to Price Ratio"
   ]
  },
  {
   "cell_type": "code",
   "execution_count": 0,
   "metadata": {
    "colab": {
     "base_uri": "https://localhost:8080/",
     "height": 297
    },
    "colab_type": "code",
    "id": "IGXCmbsk4cj2",
    "outputId": "b83064d5-9e2e-42bb-f281-76c4d47c044b"
   },
   "outputs": [
    {
     "data": {
      "text/html": [
       "<div>\n",
       "<style scoped>\n",
       "    .dataframe tbody tr th:only-of-type {\n",
       "        vertical-align: middle;\n",
       "    }\n",
       "\n",
       "    .dataframe tbody tr th {\n",
       "        vertical-align: top;\n",
       "    }\n",
       "\n",
       "    .dataframe thead th {\n",
       "        text-align: right;\n",
       "    }\n",
       "</style>\n",
       "<table border=\"1\" class=\"dataframe\">\n",
       "  <thead>\n",
       "    <tr style=\"text-align: right;\">\n",
       "      <th></th>\n",
       "      <th>g01</th>\n",
       "      <th>g02</th>\n",
       "      <th>g03</th>\n",
       "      <th>g04</th>\n",
       "      <th>g05</th>\n",
       "      <th>g06</th>\n",
       "      <th>g07</th>\n",
       "      <th>g08</th>\n",
       "      <th>g09</th>\n",
       "      <th>g10</th>\n",
       "    </tr>\n",
       "  </thead>\n",
       "  <tbody>\n",
       "    <tr>\n",
       "      <th>count</th>\n",
       "      <td>215.000000</td>\n",
       "      <td>215.000000</td>\n",
       "      <td>215.000000</td>\n",
       "      <td>215.000000</td>\n",
       "      <td>215.000000</td>\n",
       "      <td>215.000000</td>\n",
       "      <td>215.000000</td>\n",
       "      <td>215.000000</td>\n",
       "      <td>215.000000</td>\n",
       "      <td>215.000000</td>\n",
       "    </tr>\n",
       "    <tr>\n",
       "      <th>mean</th>\n",
       "      <td>0.006863</td>\n",
       "      <td>0.007261</td>\n",
       "      <td>0.007054</td>\n",
       "      <td>0.008263</td>\n",
       "      <td>0.008174</td>\n",
       "      <td>0.010275</td>\n",
       "      <td>0.011425</td>\n",
       "      <td>0.014097</td>\n",
       "      <td>0.015444</td>\n",
       "      <td>0.018029</td>\n",
       "    </tr>\n",
       "    <tr>\n",
       "      <th>std</th>\n",
       "      <td>0.056039</td>\n",
       "      <td>0.050069</td>\n",
       "      <td>0.047143</td>\n",
       "      <td>0.044177</td>\n",
       "      <td>0.045016</td>\n",
       "      <td>0.044872</td>\n",
       "      <td>0.047465</td>\n",
       "      <td>0.050960</td>\n",
       "      <td>0.055152</td>\n",
       "      <td>0.062053</td>\n",
       "    </tr>\n",
       "    <tr>\n",
       "      <th>min</th>\n",
       "      <td>-0.280044</td>\n",
       "      <td>-0.235476</td>\n",
       "      <td>-0.221229</td>\n",
       "      <td>-0.189456</td>\n",
       "      <td>-0.213027</td>\n",
       "      <td>-0.190636</td>\n",
       "      <td>-0.195487</td>\n",
       "      <td>-0.219287</td>\n",
       "      <td>-0.227632</td>\n",
       "      <td>-0.242990</td>\n",
       "    </tr>\n",
       "    <tr>\n",
       "      <th>25%</th>\n",
       "      <td>-0.024067</td>\n",
       "      <td>-0.018694</td>\n",
       "      <td>-0.017955</td>\n",
       "      <td>-0.017701</td>\n",
       "      <td>-0.016168</td>\n",
       "      <td>-0.010800</td>\n",
       "      <td>-0.012523</td>\n",
       "      <td>-0.010305</td>\n",
       "      <td>-0.013142</td>\n",
       "      <td>-0.010433</td>\n",
       "    </tr>\n",
       "    <tr>\n",
       "      <th>50%</th>\n",
       "      <td>0.008206</td>\n",
       "      <td>0.011884</td>\n",
       "      <td>0.011489</td>\n",
       "      <td>0.010353</td>\n",
       "      <td>0.012709</td>\n",
       "      <td>0.012978</td>\n",
       "      <td>0.015993</td>\n",
       "      <td>0.015982</td>\n",
       "      <td>0.019001</td>\n",
       "      <td>0.022936</td>\n",
       "    </tr>\n",
       "    <tr>\n",
       "      <th>75%</th>\n",
       "      <td>0.044110</td>\n",
       "      <td>0.040848</td>\n",
       "      <td>0.038844</td>\n",
       "      <td>0.036656</td>\n",
       "      <td>0.037401</td>\n",
       "      <td>0.039129</td>\n",
       "      <td>0.037659</td>\n",
       "      <td>0.042928</td>\n",
       "      <td>0.046148</td>\n",
       "      <td>0.049916</td>\n",
       "    </tr>\n",
       "    <tr>\n",
       "      <th>max</th>\n",
       "      <td>0.208345</td>\n",
       "      <td>0.152295</td>\n",
       "      <td>0.113206</td>\n",
       "      <td>0.125040</td>\n",
       "      <td>0.137438</td>\n",
       "      <td>0.135234</td>\n",
       "      <td>0.189510</td>\n",
       "      <td>0.201385</td>\n",
       "      <td>0.253595</td>\n",
       "      <td>0.320867</td>\n",
       "    </tr>\n",
       "  </tbody>\n",
       "</table>\n",
       "</div>"
      ],
      "text/plain": [
       "              g01         g02         g03  ...         g08         g09         g10\n",
       "count  215.000000  215.000000  215.000000  ...  215.000000  215.000000  215.000000\n",
       "mean     0.006863    0.007261    0.007054  ...    0.014097    0.015444    0.018029\n",
       "std      0.056039    0.050069    0.047143  ...    0.050960    0.055152    0.062053\n",
       "min     -0.280044   -0.235476   -0.221229  ...   -0.219287   -0.227632   -0.242990\n",
       "25%     -0.024067   -0.018694   -0.017955  ...   -0.010305   -0.013142   -0.010433\n",
       "50%      0.008206    0.011884    0.011489  ...    0.015982    0.019001    0.022936\n",
       "75%      0.044110    0.040848    0.038844  ...    0.042928    0.046148    0.049916\n",
       "max      0.208345    0.152295    0.113206  ...    0.201385    0.253595    0.320867\n",
       "\n",
       "[8 rows x 10 columns]"
      ]
     },
     "execution_count": 53,
     "metadata": {
      "tags": []
     },
     "output_type": "execute_result"
    }
   ],
   "source": [
    "cfp_group_return = single_factor_backtest(data1,'ep')\n",
    "cfp_group_return.describe()"
   ]
  },
  {
   "cell_type": "code",
   "execution_count": 0,
   "metadata": {
    "colab": {
     "base_uri": "https://localhost:8080/",
     "height": 818
    },
    "colab_type": "code",
    "id": "iub0KzEG4cj5",
    "outputId": "e0ed6d31-e8fa-4cb7-f4d6-9a25e1696804"
   },
   "outputs": [
    {
     "data": {
      "image/png": "[encoded data removed]",
      "text/plain": [
       "<Figure size 576x288 with 1 Axes>"
      ]
     },
     "metadata": {
      "tags": []
     },
     "output_type": "display_data"
    },
    {
     "data": {
      "image/png": "[encoded data removed]",
      "text/plain": [
       "<Figure size 576x288 with 1 Axes>"
      ]
     },
     "metadata": {
      "tags": []
     },
     "output_type": "display_data"
    },
    {
     "data": {
      "image/png": "[encoded data removed]",
      "text/plain": [
       "<Figure size 576x288 with 1 Axes>"
      ]
     },
     "metadata": {
      "tags": []
     },
     "output_type": "display_data"
    }
   ],
   "source": [
    "visualize(cfp_group_return,bar_plot=True)\n",
    "visualize(cfp_group_return,Long_Only=True)\n",
    "visualize(cfp_group_return,Long_Short=True)"
   ]
  },
  {
   "cell_type": "markdown",
   "metadata": {
    "colab_type": "text",
    "id": "iMrq0SGv4cj7"
   },
   "source": [
    "# ---- Done ------ #"
   ]
  },
  {
   "cell_type": "markdown",
   "metadata": {
    "colab_type": "text",
    "id": "bpLXhxQr-vf0"
   },
   "source": [
    "### Get the factor return"
   ]
  },
  {
   "cell_type": "code",
   "execution_count": 0,
   "metadata": {
    "colab": {},
    "colab_type": "code",
    "id": "Kmje_aXY_Xl-"
   },
   "outputs": [],
   "source": [
    "def get_factor_return(factor_group):\n",
    "    low_return = factor_group[['g01']].mean(axis=1)\n",
    "    high_return = factor_group[['g10']].mean(axis=1)\n",
    "    return_diff = high_return - low_return\n",
    "    return high_return, low_return, return_diff "
   ]
  },
  {
   "cell_type": "code",
   "execution_count": 0,
   "metadata": {
    "colab": {},
    "colab_type": "code",
    "id": "e_ZwooCJ-jKt"
   },
   "outputs": [],
   "source": [
    "factor_list = [roe_group_return, roa_group_return, roic_group_return, bm_group_return, ep_group_return, cfp_group_return]\n",
    "factor_high_return = pd.DataFrame()\n",
    "factor_low_return = pd.DataFrame()\n",
    "factor_diff_return = pd.DataFrame()\n",
    "for f in factor_list:\n",
    "    temp1, temp2, temp3 = get_factor_return(f)\n",
    "    factor_high_return = pd.concat([factor_high_return, temp1], axis=1)\n",
    "    factor_low_return = pd.concat([factor_low_return, temp2], axis=1)\n",
    "    factor_diff_return = pd.concat([factor_diff_return, temp3], axis=1)\n",
    "\n",
    "\n",
    "for i in [factor_high_return, factor_low_return, factor_diff_return]:\n",
    "    i.columns = ['roe', 'roa', 'roic', 'bm', 'ep', 'cfp']\n",
    "    i.index = i.index.map(lambda x: str(x.year) + '-' + str(x.month) if x.month >= 10 else str(x.year) + '-0' + str(x.month))\n",
    "    i = i.dropna()"
   ]
  },
  {
   "cell_type": "code",
   "execution_count": 0,
   "metadata": {
    "colab": {},
    "colab_type": "code",
    "id": "xTmAHJZj6PY7"
   },
   "outputs": [],
   "source": [
    "factor_high_return['date'] = factor_high_return.index\n",
    "factor_low_return['date'] = factor_low_return.index\n",
    "factor_diff_return['date'] = factor_diff_return.index"
   ]
  },
  {
   "cell_type": "markdown",
   "metadata": {
    "colab_type": "text",
    "id": "EISManMHBIdQ"
   },
   "source": [
    "### Regression of return on factors"
   ]
  },
  {
   "cell_type": "code",
   "execution_count": 0,
   "metadata": {
    "colab": {},
    "colab_type": "code",
    "id": "1lOpqWJFEKWX"
   },
   "outputs": [],
   "source": [
    "import statsmodels.api as sm\n",
    "from scipy.stats import ttest_ind"
   ]
  },
  {
   "cell_type": "code",
   "execution_count": 0,
   "metadata": {
    "colab": {},
    "colab_type": "code",
    "id": "qjcLMQjAN-CU"
   },
   "outputs": [],
   "source": [
    "# del extra data\n",
    "def del_extra(df):\n",
    "    for c in df.columns[1:-1]:\n",
    "        mean_ = np.mean(df[c])\n",
    "        std_ = np.std(df[c])\n",
    "        df[c] = df[c].apply(lambda x: mean_+std_ if x>mean_+std_ \n",
    "                            else mean_-std_ if x<mean_-std_ \n",
    "                            else x)\n",
    "    return df\n",
    "# Scale\n",
    "def stand(df):\n",
    "    mean_ = df.min()\n",
    "    std_ = df.max()\n",
    "    df = (df - mean_) / std_\n",
    "    return df"
   ]
  },
  {
   "cell_type": "code",
   "execution_count": 0,
   "metadata": {
    "colab": {
     "base_uri": "https://localhost:8080/",
     "height": 235
    },
    "colab_type": "code",
    "id": "BIa9WvMdBc1e",
    "outputId": "e8fdce45-1d6a-4f39-93d0-6f521627ddba"
   },
   "outputs": [
    {
     "data": {
      "text/html": [
       "<div>\n",
       "<style scoped>\n",
       "    .dataframe tbody tr th:only-of-type {\n",
       "        vertical-align: middle;\n",
       "    }\n",
       "\n",
       "    .dataframe tbody tr th {\n",
       "        vertical-align: top;\n",
       "    }\n",
       "\n",
       "    .dataframe thead th {\n",
       "        text-align: right;\n",
       "    }\n",
       "</style>\n",
       "<table border=\"1\" class=\"dataframe\">\n",
       "  <thead>\n",
       "    <tr style=\"text-align: right;\">\n",
       "      <th></th>\n",
       "      <th>date</th>\n",
       "      <th>PERMNO</th>\n",
       "      <th>roe</th>\n",
       "      <th>roa</th>\n",
       "      <th>roic</th>\n",
       "      <th>roag</th>\n",
       "      <th>roeg</th>\n",
       "      <th>bm</th>\n",
       "      <th>ep</th>\n",
       "      <th>cfp</th>\n",
       "      <th>RETt+1</th>\n",
       "    </tr>\n",
       "    <tr>\n",
       "      <th>Index</th>\n",
       "      <th></th>\n",
       "      <th></th>\n",
       "      <th></th>\n",
       "      <th></th>\n",
       "      <th></th>\n",
       "      <th></th>\n",
       "      <th></th>\n",
       "      <th></th>\n",
       "      <th></th>\n",
       "      <th></th>\n",
       "      <th></th>\n",
       "    </tr>\n",
       "  </thead>\n",
       "  <tbody>\n",
       "    <tr>\n",
       "      <th>1998-01</th>\n",
       "      <td>1998-01</td>\n",
       "      <td>76660</td>\n",
       "      <td>0.041366</td>\n",
       "      <td>0.074384</td>\n",
       "      <td>0.112117</td>\n",
       "      <td>1.007124</td>\n",
       "      <td>1.075582</td>\n",
       "      <td>0.135996</td>\n",
       "      <td>NaN</td>\n",
       "      <td>0.010303</td>\n",
       "      <td>0.201597</td>\n",
       "    </tr>\n",
       "    <tr>\n",
       "      <th>1998-01</th>\n",
       "      <td>1998-01</td>\n",
       "      <td>76595</td>\n",
       "      <td>NaN</td>\n",
       "      <td>NaN</td>\n",
       "      <td>NaN</td>\n",
       "      <td>NaN</td>\n",
       "      <td>NaN</td>\n",
       "      <td>NaN</td>\n",
       "      <td>NaN</td>\n",
       "      <td>NaN</td>\n",
       "      <td>-0.010251</td>\n",
       "    </tr>\n",
       "    <tr>\n",
       "      <th>1998-01</th>\n",
       "      <td>1998-01</td>\n",
       "      <td>76569</td>\n",
       "      <td>NaN</td>\n",
       "      <td>NaN</td>\n",
       "      <td>NaN</td>\n",
       "      <td>NaN</td>\n",
       "      <td>NaN</td>\n",
       "      <td>NaN</td>\n",
       "      <td>NaN</td>\n",
       "      <td>NaN</td>\n",
       "      <td>-0.006364</td>\n",
       "    </tr>\n",
       "    <tr>\n",
       "      <th>1998-01</th>\n",
       "      <td>1998-01</td>\n",
       "      <td>45583</td>\n",
       "      <td>0.004341</td>\n",
       "      <td>0.009442</td>\n",
       "      <td>0.020823</td>\n",
       "      <td>-0.139322</td>\n",
       "      <td>-0.145465</td>\n",
       "      <td>0.824789</td>\n",
       "      <td>NaN</td>\n",
       "      <td>0.123764</td>\n",
       "      <td>0.002717</td>\n",
       "    </tr>\n",
       "    <tr>\n",
       "      <th>1998-01</th>\n",
       "      <td>1998-01</td>\n",
       "      <td>76708</td>\n",
       "      <td>0.034976</td>\n",
       "      <td>0.069554</td>\n",
       "      <td>0.713122</td>\n",
       "      <td>1.236170</td>\n",
       "      <td>1.197378</td>\n",
       "      <td>0.114868</td>\n",
       "      <td>0.025785</td>\n",
       "      <td>0.029558</td>\n",
       "      <td>0.123967</td>\n",
       "    </tr>\n",
       "  </tbody>\n",
       "</table>\n",
       "</div>"
      ],
      "text/plain": [
       "            date  PERMNO       roe  ...        ep       cfp    RETt+1\n",
       "Index                               ...                              \n",
       "1998-01  1998-01   76660  0.041366  ...       NaN  0.010303  0.201597\n",
       "1998-01  1998-01   76595       NaN  ...       NaN       NaN -0.010251\n",
       "1998-01  1998-01   76569       NaN  ...       NaN       NaN -0.006364\n",
       "1998-01  1998-01   45583  0.004341  ...       NaN  0.123764  0.002717\n",
       "1998-01  1998-01   76708  0.034976  ...  0.025785  0.029558  0.123967\n",
       "\n",
       "[5 rows x 11 columns]"
      ]
     },
     "execution_count": 60,
     "metadata": {
      "tags": []
     },
     "output_type": "execute_result"
    }
   ],
   "source": [
    "data2.head()"
   ]
  },
  {
   "cell_type": "code",
   "execution_count": 0,
   "metadata": {
    "colab": {},
    "colab_type": "code",
    "id": "GR0yHAl7OUrr"
   },
   "outputs": [],
   "source": [
    "data2 = data1[['date', 'PERMNO', 'roe', 'roa', 'roic', 'roag', 'roeg', 'bm','ep', 'cfp', 'RETt+1']]\n",
    "data3 = pd.DataFrame()\n",
    "for t in sorted(list(data2.date.unique())):\n",
    "    temp1 = data2[data2.date == t]\n",
    "    temp2 = del_extra(temp1.iloc[:,1:])\n",
    "    temp3 = stand(temp2)\n",
    "    temp3['date'] = t\n",
    "    temp3['PERMNO'] = temp2.PERMNO\n",
    "    temp3['RETt+1'] = temp2['RETt+1']\n",
    "    data3 = pd.concat([data3, temp3])"
   ]
  },
  {
   "cell_type": "code",
   "execution_count": 0,
   "metadata": {
    "colab": {},
    "colab_type": "code",
    "id": "q5GXlkEkPbUi"
   },
   "outputs": [],
   "source": [
    "# Load market data and risk free rate\n",
    "market_return = pd.read_csv('markets_return.csv')\n",
    "risk_free = pd.read_csv('risk_free.csv')\n",
    "\n",
    "risk_free['date'] = risk_free.MCALDT.apply(lambda x: str(x)[:7])\n",
    "risk_free['rf'] = risk_free.TMYTM / 100\n",
    "\n",
    "market_return = market_return.rename(columns={'vwretd':'ret'})\n",
    "market_return['ret_market'] = market_return.ret.shift(-1)\n",
    "market_return['date'] = market_return.DATE.apply(lambda x: str(x)[:4] + '-' + str(x)[4:6])\n",
    "market_return.drop(['DATE'],axis=1, inplace=True)\n",
    "\n",
    "data4 = data3.merge(market_return[['date','ret_market']], left_on='date', right_on='date', how='left').merge(risk_free[['date', 'rf']], left_on='date', right_on='date', how='left')\n",
    "data4['market_excess_return'] = data4['ret_market'] - data4['rf']\n",
    "data4['stock_excess_return'] = data4['RETt+1'] - data4['rf']"
   ]
  },
  {
   "cell_type": "markdown",
   "metadata": {
    "colab_type": "text",
    "id": "jGDTEZky3UFP"
   },
   "source": [
    "#### Single factor Alpha"
   ]
  },
  {
   "cell_type": "code",
   "execution_count": 0,
   "metadata": {
    "colab": {},
    "colab_type": "code",
    "id": "Htiy5ktl7Kqe"
   },
   "outputs": [],
   "source": [
    "factor_high_return1 = factor_high_return.merge(market_return[['date','ret_market']], left_on='date', right_on='date', how='left').merge(risk_free[['date', 'rf']], left_on='date', right_on='date', how='left')\n",
    "factor_high_return1['market_excess_return'] = factor_high_return1['ret_market'] - factor_high_return1['rf']\n",
    "factor_low_return1 = factor_low_return.merge(market_return[['date','ret_market']], left_on='date', right_on='date', how='left').merge(risk_free[['date', 'rf']], left_on='date', right_on='date', how='left')\n",
    "factor_low_return1['market_excess_return'] = factor_low_return1['ret_market'] - factor_low_return1['rf']\n",
    "factor_diff_return1 = factor_diff_return.merge(market_return[['date','ret_market']], left_on='date', right_on='date', how='left').merge(risk_free[['date', 'rf']], left_on='date', right_on='date', how='left')\n",
    "factor_diff_return1['market_excess_return'] = factor_diff_return1['ret_market'] - factor_diff_return1['rf']\n",
    "# factor_return1['stock_excess_return'] = factor_return1 - factor_return1['rf']"
   ]
  },
  {
   "cell_type": "code",
   "execution_count": 0,
   "metadata": {
    "colab": {},
    "colab_type": "code",
    "id": "LNGXbpjU-n34"
   },
   "outputs": [],
   "source": [
    "stocks_list = data1.PERMNO.unique()\n",
    "# factor_return1 = factor_return.merge(market_return[['date','ret_market']], left_on='date', right_on='date', how='left').merge(risk_free[['date', 'rf']], left_on='date', right_on='date', how='left')\n",
    "# factor_return1['market_excess_return'] = factor_return1['ret_market'] - factor_return1['rf']\n",
    "# factor_return1['stock_excess_return'] = factor_return1['RETt+1'] - factor_return1['rf']\n",
    "\n",
    "#Do regression for every stock\n",
    "stats_dict = {0:[], 1:[], 2:[]}\n",
    "tvalues_dict = {0:[], 1:[], 2:[]}\n",
    "factors = ['roe', 'roa', 'roic', 'bm', 'ep', 'cfp']\n",
    "portfolios = [factor_high_return1, factor_low_return1, factor_diff_return1]\n",
    "for i in range(len(portfolios)):\n",
    "    for f in factors:\n",
    "        factor_ret = portfolios[i][f] - portfolios[i]['rf']\n",
    "        market_ret = portfolios[i]['market_excess_return']\n",
    "        # Make sure there is enough data\n",
    "        if len(ret) >= 20:\n",
    "            regressors = sm.add_constant(np.array(market_ret))\n",
    "            reg = sm.OLS(np.array(factor_ret), regressors, missing='drop').fit()\n",
    "            stats_dict[i].append(reg.params)\n",
    "            tvalues_dict[i].append(reg.tvalues)\n",
    "            # time = ret.index\n",
    "            # factor = sm.add_constant(np.array(factor_return.roe.loc[time]))\n",
    "            # reg = sm.OLS(np.array(ret), factor).fit()\n",
    "            # stats_list.append(reg.params)\n",
    "            # pvalues.append(reg.pvalues)"
   ]
  },
  {
   "cell_type": "code",
   "execution_count": 0,
   "metadata": {
    "colab": {},
    "colab_type": "code",
    "id": "IOKSGtBiF-Ef"
   },
   "outputs": [],
   "source": [
    "high_stats_df = pd.DataFrame(stats_dict[0], columns=['alpha', 'beta'], index=factors)\n",
    "low_stats_df = pd.DataFrame(stats_dict[1], columns=['alpha', 'beta'], index=factors)\n",
    "diff_stats_df = pd.DataFrame(stats_dict[2], columns=['alpha', 'beta'], index=factors)"
   ]
  },
  {
   "cell_type": "code",
   "execution_count": 0,
   "metadata": {
    "colab": {
     "base_uri": "https://localhost:8080/",
     "height": 289
    },
    "colab_type": "code",
    "id": "ft6iDNbTDurq",
    "outputId": "e2e67f90-141b-4a77-8b66-4d500e5d109f"
   },
   "outputs": [
    {
     "name": "stdout",
     "output_type": "stream",
     "text": [
      "high return group alpha: \n",
      "         alpha      beta\n",
      "roe   0.010890  0.972478\n",
      "roa   0.012486  1.011964\n",
      "roic -0.002598  0.861313\n",
      "bm    0.004886  0.997519\n",
      "ep    0.012924  1.078576\n",
      "cfp   0.012924  1.078576\n",
      "low return group alpha: \n",
      "         alpha      beta\n",
      "roe   0.003323  1.073740\n",
      "roa   0.001769  1.040870\n",
      "roic  0.001872  1.287314\n",
      "bm    0.003044  0.959967\n",
      "ep    0.001682  1.073018\n",
      "cfp   0.001682  1.073018\n"
     ]
    }
   ],
   "source": [
    "# high return group alpha\n",
    "print('high return group alpha: ')\n",
    "print(high_stats_df)\n",
    "# low return group alpha\n",
    "print('low return group alpha: ')\n",
    "print(low_stats_df)"
   ]
  },
  {
   "cell_type": "markdown",
   "metadata": {
    "colab_type": "text",
    "id": "7xWSHgDxNQZd"
   },
   "source": [
    "#### Regression on factors values"
   ]
  },
  {
   "cell_type": "markdown",
   "metadata": {
    "colab_type": "text",
    "id": "wRdQlRPT2NmM"
   },
   "source": [
    "#### Multi factor model"
   ]
  },
  {
   "cell_type": "code",
   "execution_count": 0,
   "metadata": {
    "colab": {
     "base_uri": "https://localhost:8080/",
     "height": 609
    },
    "colab_type": "code",
    "id": "aOyHWIsxI1F3",
    "outputId": "7f719270-0077-48c3-d5c4-b13fe80c3d0a"
   },
   "outputs": [
    {
     "data": {
      "text/html": [
       "<div>\n",
       "<style scoped>\n",
       "    .dataframe tbody tr th:only-of-type {\n",
       "        vertical-align: middle;\n",
       "    }\n",
       "\n",
       "    .dataframe tbody tr th {\n",
       "        vertical-align: top;\n",
       "    }\n",
       "\n",
       "    .dataframe thead th {\n",
       "        text-align: right;\n",
       "    }\n",
       "</style>\n",
       "<table border=\"1\" class=\"dataframe\">\n",
       "  <thead>\n",
       "    <tr style=\"text-align: right;\">\n",
       "      <th></th>\n",
       "      <th>PERMNO</th>\n",
       "      <th>roe</th>\n",
       "      <th>roa</th>\n",
       "      <th>roic</th>\n",
       "      <th>roag</th>\n",
       "      <th>roeg</th>\n",
       "      <th>bm</th>\n",
       "      <th>ep</th>\n",
       "      <th>cfp</th>\n",
       "      <th>RETt+1</th>\n",
       "      <th>date</th>\n",
       "      <th>ret_market</th>\n",
       "      <th>rf</th>\n",
       "      <th>market_excess_return</th>\n",
       "      <th>stock_excess_return</th>\n",
       "    </tr>\n",
       "  </thead>\n",
       "  <tbody>\n",
       "    <tr>\n",
       "      <th>0</th>\n",
       "      <td>76660</td>\n",
       "      <td>0.579996</td>\n",
       "      <td>0.059427</td>\n",
       "      <td>0.511866</td>\n",
       "      <td>0.501373</td>\n",
       "      <td>0.496912</td>\n",
       "      <td>0.122892</td>\n",
       "      <td>NaN</td>\n",
       "      <td>0.049604</td>\n",
       "      <td>0.201597</td>\n",
       "      <td>1998-01</td>\n",
       "      <td>0.073303</td>\n",
       "      <td>0.050254</td>\n",
       "      <td>0.023049</td>\n",
       "      <td>0.151343</td>\n",
       "    </tr>\n",
       "    <tr>\n",
       "      <th>1</th>\n",
       "      <td>76595</td>\n",
       "      <td>NaN</td>\n",
       "      <td>NaN</td>\n",
       "      <td>NaN</td>\n",
       "      <td>NaN</td>\n",
       "      <td>NaN</td>\n",
       "      <td>NaN</td>\n",
       "      <td>NaN</td>\n",
       "      <td>NaN</td>\n",
       "      <td>-0.010251</td>\n",
       "      <td>1998-01</td>\n",
       "      <td>0.073303</td>\n",
       "      <td>0.050254</td>\n",
       "      <td>0.023049</td>\n",
       "      <td>-0.060505</td>\n",
       "    </tr>\n",
       "    <tr>\n",
       "      <th>2</th>\n",
       "      <td>76569</td>\n",
       "      <td>NaN</td>\n",
       "      <td>NaN</td>\n",
       "      <td>NaN</td>\n",
       "      <td>NaN</td>\n",
       "      <td>NaN</td>\n",
       "      <td>NaN</td>\n",
       "      <td>NaN</td>\n",
       "      <td>NaN</td>\n",
       "      <td>-0.006364</td>\n",
       "      <td>1998-01</td>\n",
       "      <td>0.073303</td>\n",
       "      <td>0.050254</td>\n",
       "      <td>0.023049</td>\n",
       "      <td>-0.056618</td>\n",
       "    </tr>\n",
       "    <tr>\n",
       "      <th>3</th>\n",
       "      <td>45583</td>\n",
       "      <td>0.060867</td>\n",
       "      <td>0.007544</td>\n",
       "      <td>0.482355</td>\n",
       "      <td>0.476789</td>\n",
       "      <td>0.473173</td>\n",
       "      <td>0.789878</td>\n",
       "      <td>NaN</td>\n",
       "      <td>0.599797</td>\n",
       "      <td>0.002717</td>\n",
       "      <td>1998-01</td>\n",
       "      <td>0.073303</td>\n",
       "      <td>0.050254</td>\n",
       "      <td>0.023049</td>\n",
       "      <td>-0.047537</td>\n",
       "    </tr>\n",
       "    <tr>\n",
       "      <th>4</th>\n",
       "      <td>76708</td>\n",
       "      <td>0.490411</td>\n",
       "      <td>0.055568</td>\n",
       "      <td>0.706144</td>\n",
       "      <td>0.506284</td>\n",
       "      <td>0.499280</td>\n",
       "      <td>0.102433</td>\n",
       "      <td>0.149119</td>\n",
       "      <td>0.142976</td>\n",
       "      <td>0.123967</td>\n",
       "      <td>1998-01</td>\n",
       "      <td>0.073303</td>\n",
       "      <td>0.050254</td>\n",
       "      <td>0.023049</td>\n",
       "      <td>0.073713</td>\n",
       "    </tr>\n",
       "    <tr>\n",
       "      <th>...</th>\n",
       "      <td>...</td>\n",
       "      <td>...</td>\n",
       "      <td>...</td>\n",
       "      <td>...</td>\n",
       "      <td>...</td>\n",
       "      <td>...</td>\n",
       "      <td>...</td>\n",
       "      <td>...</td>\n",
       "      <td>...</td>\n",
       "      <td>...</td>\n",
       "      <td>...</td>\n",
       "      <td>...</td>\n",
       "      <td>...</td>\n",
       "      <td>...</td>\n",
       "      <td>...</td>\n",
       "    </tr>\n",
       "    <tr>\n",
       "      <th>553178</th>\n",
       "      <td>86870</td>\n",
       "      <td>NaN</td>\n",
       "      <td>NaN</td>\n",
       "      <td>NaN</td>\n",
       "      <td>NaN</td>\n",
       "      <td>NaN</td>\n",
       "      <td>NaN</td>\n",
       "      <td>NaN</td>\n",
       "      <td>NaN</td>\n",
       "      <td>0.028235</td>\n",
       "      <td>2015-11</td>\n",
       "      <td>-0.022288</td>\n",
       "      <td>0.001217</td>\n",
       "      <td>-0.023505</td>\n",
       "      <td>0.027018</td>\n",
       "    </tr>\n",
       "    <tr>\n",
       "      <th>553179</th>\n",
       "      <td>14638</td>\n",
       "      <td>0.001522</td>\n",
       "      <td>0.003175</td>\n",
       "      <td>NaN</td>\n",
       "      <td>0.514726</td>\n",
       "      <td>0.514109</td>\n",
       "      <td>0.444580</td>\n",
       "      <td>0.146041</td>\n",
       "      <td>0.302792</td>\n",
       "      <td>0.005687</td>\n",
       "      <td>2015-11</td>\n",
       "      <td>-0.022288</td>\n",
       "      <td>0.001217</td>\n",
       "      <td>-0.023505</td>\n",
       "      <td>0.004470</td>\n",
       "    </tr>\n",
       "    <tr>\n",
       "      <th>553180</th>\n",
       "      <td>14214</td>\n",
       "      <td>0.034932</td>\n",
       "      <td>0.059653</td>\n",
       "      <td>0.506790</td>\n",
       "      <td>0.517287</td>\n",
       "      <td>0.518267</td>\n",
       "      <td>0.201767</td>\n",
       "      <td>0.778913</td>\n",
       "      <td>0.275558</td>\n",
       "      <td>-0.120838</td>\n",
       "      <td>2015-11</td>\n",
       "      <td>-0.022288</td>\n",
       "      <td>0.001217</td>\n",
       "      <td>-0.023505</td>\n",
       "      <td>-0.122055</td>\n",
       "    </tr>\n",
       "    <tr>\n",
       "      <th>553181</th>\n",
       "      <td>89330</td>\n",
       "      <td>NaN</td>\n",
       "      <td>NaN</td>\n",
       "      <td>0.498672</td>\n",
       "      <td>0.503948</td>\n",
       "      <td>0.501743</td>\n",
       "      <td>1.000000</td>\n",
       "      <td>NaN</td>\n",
       "      <td>0.446524</td>\n",
       "      <td>-0.023739</td>\n",
       "      <td>2015-11</td>\n",
       "      <td>-0.022288</td>\n",
       "      <td>0.001217</td>\n",
       "      <td>-0.023505</td>\n",
       "      <td>-0.024956</td>\n",
       "    </tr>\n",
       "    <tr>\n",
       "      <th>553182</th>\n",
       "      <td>14637</td>\n",
       "      <td>NaN</td>\n",
       "      <td>NaN</td>\n",
       "      <td>0.484695</td>\n",
       "      <td>0.254871</td>\n",
       "      <td>0.269580</td>\n",
       "      <td>0.577138</td>\n",
       "      <td>NaN</td>\n",
       "      <td>0.170722</td>\n",
       "      <td>-0.058293</td>\n",
       "      <td>2015-11</td>\n",
       "      <td>-0.022288</td>\n",
       "      <td>0.001217</td>\n",
       "      <td>-0.023505</td>\n",
       "      <td>-0.059510</td>\n",
       "    </tr>\n",
       "  </tbody>\n",
       "</table>\n",
       "<p>553183 rows × 15 columns</p>\n",
       "</div>"
      ],
      "text/plain": [
       "        PERMNO       roe  ...  market_excess_return  stock_excess_return\n",
       "0        76660  0.579996  ...              0.023049             0.151343\n",
       "1        76595       NaN  ...              0.023049            -0.060505\n",
       "2        76569       NaN  ...              0.023049            -0.056618\n",
       "3        45583  0.060867  ...              0.023049            -0.047537\n",
       "4        76708  0.490411  ...              0.023049             0.073713\n",
       "...        ...       ...  ...                   ...                  ...\n",
       "553178   86870       NaN  ...             -0.023505             0.027018\n",
       "553179   14638  0.001522  ...             -0.023505             0.004470\n",
       "553180   14214  0.034932  ...             -0.023505            -0.122055\n",
       "553181   89330       NaN  ...             -0.023505            -0.024956\n",
       "553182   14637       NaN  ...             -0.023505            -0.059510\n",
       "\n",
       "[553183 rows x 15 columns]"
      ]
     },
     "execution_count": 173,
     "metadata": {
      "tags": []
     },
     "output_type": "execute_result"
    }
   ],
   "source": [
    "data4[data4.date!='2015-12']"
   ]
  },
  {
   "cell_type": "code",
   "execution_count": 0,
   "metadata": {
    "colab": {},
    "colab_type": "code",
    "id": "-zb7DcdWTN2Q"
   },
   "outputs": [],
   "source": [
    "data5 = data4[data4.date != '2015-12']\n",
    "time = data5.date.unique()\n",
    "\n",
    "#Do regression for every stock\n",
    "stats_list = []\n",
    "tvalues = []\n",
    "time_list = []\n",
    "pvalues = []\n",
    "factors = ['roe', 'roa', 'roic', 'bm', 'ep', 'cfp']\n",
    "\n",
    "for t in time:\n",
    "    sample = data5[data5.date == t]\n",
    "    sample = sample.dropna()\n",
    "    ret = sample['stock_excess_return']\n",
    "    # Make sure there is enough data\n",
    "    if len(ret) >= 0:\n",
    "        regressors = sm.add_constant(np.array(sample[factors]))\n",
    "        reg = sm.OLS(np.array(ret), regressors).fit()\n",
    "        stats_list.append(reg.params)\n",
    "        tvalues.append(reg.tvalues)\n",
    "        time_list.append(t)\n",
    "        # time = ret.index\n",
    "        # factor = sm.add_constant(np.array(factor_return.roe.loc[time]))\n",
    "        # reg = sm.OLS(np.array(ret), factor).fit()\n",
    "        # stats_list.append(reg.params)\n",
    "        # pvalues.append(reg.pvalues)"
   ]
  },
  {
   "cell_type": "code",
   "execution_count": 0,
   "metadata": {
    "colab": {},
    "colab_type": "code",
    "id": "4DJK0tugoXZ-"
   },
   "outputs": [],
   "source": [
    "params_df = pd.DataFrame(stats_list, columns=['alpha', 'roe', 'roa', 'roic', 'bm', 'ep', 'cfp'])\n",
    "params_df['date'] = time_list\n",
    "# params_df.index = params_df['date']\n",
    "tvalues_df = pd.DataFrame(tvalues, columns=['alpha', 'roe', 'roa', 'roic', 'bm' ,'ep', 'cfp'])\n",
    "tvalues_df['date'] = time_list\n",
    "# tvalues_df.index = tvalues_df['date']"
   ]
  },
  {
   "cell_type": "code",
   "execution_count": 0,
   "metadata": {
    "colab": {},
    "colab_type": "code",
    "id": "wSoVHHHsolwn"
   },
   "outputs": [],
   "source": [
    "import seaborn as sns\n",
    "import matplotlib.ticker as ticker"
   ]
  },
  {
   "cell_type": "code",
   "execution_count": 0,
   "metadata": {
    "colab": {
     "base_uri": "https://localhost:8080/",
     "height": 1000
    },
    "colab_type": "code",
    "id": "ndr9p-klELot",
    "outputId": "2db5b57c-1733-4bc9-9552-1eab13b65c56"
   },
   "outputs": [
    {
     "data": {
      "text/plain": [
       "Text(0.5, 1.0, 'CFP')"
      ]
     },
     "execution_count": 196,
     "metadata": {
      "tags": []
     },
     "output_type": "execute_result"
    },
    {
     "data": {
      "image/png": "[encoded data removed]",
      "text/plain": [
       "<Figure size 432x288 with 1 Axes>"
      ]
     },
     "metadata": {
      "tags": []
     },
     "output_type": "display_data"
    },
    {
     "data": {
      "image/png": "[encoded data removed]",
      "text/plain": [
       "<Figure size 432x288 with 1 Axes>"
      ]
     },
     "metadata": {
      "tags": []
     },
     "output_type": "display_data"
    },
    {
     "data": {
      "image/png": "[encoded data removed]",
      "text/plain": [
       "<Figure size 432x288 with 1 Axes>"
      ]
     },
     "metadata": {
      "tags": []
     },
     "output_type": "display_data"
    },
    {
     "data": {
      "image/png": "[encoded data removed]",
      "text/plain": [
       "<Figure size 432x288 with 1 Axes>"
      ]
     },
     "metadata": {
      "tags": []
     },
     "output_type": "display_data"
    },
    {
     "data": {
      "image/png": "[encoded data removed]",
      "text/plain": [
       "<Figure size 432x288 with 1 Axes>"
      ]
     },
     "metadata": {
      "tags": []
     },
     "output_type": "display_data"
    },
    {
     "data": {
      "image/png": "[encoded data removed]",
      "text/plain": [
       "<Figure size 432x288 with 1 Axes>"
      ]
     },
     "metadata": {
      "tags": []
     },
     "output_type": "display_data"
    }
   ],
   "source": [
    "fig, ax = plt.subplots(1,1)\n",
    "sns.barplot(x = params_df.index,y = 'roe', data=params_df)\n",
    "ax.xaxis.set_major_locator(ticker.MultipleLocator(50))\n",
    "plt.title('ROE')\n",
    "\n",
    "fig, ax = plt.subplots(1,1)\n",
    "sns.barplot(x = params_df.index,y = 'roa', data=params_df)\n",
    "ax.xaxis.set_major_locator(ticker.MultipleLocator(50))\n",
    "plt.title('ROA')\n",
    "\n",
    "fig, ax = plt.subplots(1,1)\n",
    "sns.barplot(x = params_df.index,y = 'roic', data=params_df)\n",
    "ax.xaxis.set_major_locator(ticker.MultipleLocator(50))\n",
    "plt.title('ROIC')\n",
    "\n",
    "fig, ax = plt.subplots(1,1)\n",
    "sns.barplot(x = params_df.index,y = 'bm', data=params_df)\n",
    "ax.xaxis.set_major_locator(ticker.MultipleLocator(50))\n",
    "plt.title('BM')\n",
    "\n",
    "fig, ax = plt.subplots(1,1)\n",
    "sns.barplot(x = params_df.index,y = 'ep', data=params_df)\n",
    "ax.xaxis.set_major_locator(ticker.MultipleLocator(50))\n",
    "plt.title('EP')\n",
    "\n",
    "fig, ax = plt.subplots(1,1)\n",
    "sns.barplot(x = params_df.index,y = 'cfp', data=params_df)\n",
    "ax.xaxis.set_major_locator(ticker.MultipleLocator(50))\n",
    "plt.title('CFP')"
   ]
  },
  {
   "cell_type": "code",
   "execution_count": 0,
   "metadata": {
    "colab": {},
    "colab_type": "code",
    "id": "-MCrpW1h3ICq"
   },
   "outputs": [],
   "source": [
    "tvalues_df = tvalues_df.drop(['date'],axis=1)"
   ]
  },
  {
   "cell_type": "code",
   "execution_count": 0,
   "metadata": {
    "colab": {
     "base_uri": "https://localhost:8080/",
     "height": 153
    },
    "colab_type": "code",
    "id": "WkbQSe5f33cZ",
    "outputId": "b484f1b1-cde4-48e3-ceb0-90e3c85e5b1f"
   },
   "outputs": [
    {
     "data": {
      "text/plain": [
       "alpha    1.292880\n",
       "roe      1.463751\n",
       "roa      0.968859\n",
       "roic     0.822043\n",
       "bm       1.979876\n",
       "ep       1.570122\n",
       "cfp      1.638357\n",
       "dtype: float64"
      ]
     },
     "execution_count": 193,
     "metadata": {
      "tags": []
     },
     "output_type": "execute_result"
    }
   ],
   "source": [
    "tvalues_df.apply(abs).mean()"
   ]
  },
  {
   "cell_type": "code",
   "execution_count": 0,
   "metadata": {
    "colab": {},
    "colab_type": "code",
    "id": "-Nx2Iht0BsDV"
   },
   "outputs": [],
   "source": []
  }
 ],
 "metadata": {
  "colab": {
   "collapsed_sections": [],
   "name": "Equity_investment_project.ipynb",
   "provenance": []
  },
  "kernelspec": {
   "display_name": "Python 3",
   "language": "python",
   "name": "python3"
  },
  "language_info": {
   "codemirror_mode": {
    "name": "ipython",
    "version": 3
   },
   "file_extension": ".py",
   "mimetype": "text/x-python",
   "name": "python",
   "nbconvert_exporter": "python",
   "pygments_lexer": "ipython3",
   "version": "3.7.4"
  }
 },
 "nbformat": 4,
 "nbformat_minor": 1
}
